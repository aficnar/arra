{
 "cells": [
  {
   "cell_type": "markdown",
   "metadata": {},
   "source": [
    "# Introduction"
   ]
  },
  {
   "cell_type": "markdown",
   "metadata": {},
   "source": [
    "In this notebook we will use the code for finding the optimal node positions in a simple Instagram network visualization of `visualize_network.ipynb`, but here we will concentrate on making the code portable, by handling cases when there are very few or very many tags:\n",
    "* If there are no tags, just put the central node's image in the center\n",
    "* If there is only one tag, put it next to the central node, so they are centered in the image\n",
    "* If there are more than 2 tags, check if the number of tags is larger than a maximal number of nodes you can theoretically put in the figure, and if so, get rid of the extra tags\n",
    "* Then, check if there is overlap (one node on top of another), and if so, get rid of the last node (i.e. the one with the smallest amount of tags) and recalculate - continue do so until there is no overlap"
   ]
  },
  {
   "cell_type": "markdown",
   "metadata": {},
   "source": [
    "It turns out it's faster and more practical to handle resizing and placing images by HTML's `canvas` in the ARRA app, so this code will spit out the optimal node positions as a list containing the pixel values of those positions."
   ]
  },
  {
   "cell_type": "markdown",
   "metadata": {},
   "source": [
    "# All the functions"
   ]
  },
  {
   "cell_type": "code",
   "execution_count": 8,
   "metadata": {
    "collapsed": true
   },
   "outputs": [],
   "source": [
    "import numpy as np"
   ]
  },
  {
   "cell_type": "code",
   "execution_count": 9,
   "metadata": {
    "collapsed": true
   },
   "outputs": [],
   "source": [
    "def generate_relative_graph(nNodes, r_func, size_sec):\n",
    "    # Based on the given radial distribution of nodes, \n",
    "    # generate relative node positions around the central one\n",
    "    x_pos = []\n",
    "    y_pos = []\n",
    "    for n in range(nNodes - 1):\n",
    "        x_pos = x_pos + [r_func[n] * np.cos(n * 2*np.pi / (nNodes - 1))]\n",
    "        y_pos = y_pos + [r_func[n] * np.sin(n * 2*np.pi / (nNodes - 1))]\n",
    "    graph_width = max(x_pos) - min(x_pos) + size_sec\n",
    "    graph_height = max(y_pos) - min(y_pos) + size_sec\n",
    "    return (x_pos, y_pos, graph_width, graph_height)"
   ]
  },
  {
   "cell_type": "code",
   "execution_count": 10,
   "metadata": {
    "collapsed": true
   },
   "outputs": [],
   "source": [
    "def case1_positions(r_min, tag_list, size_sec, fig_width, fig_height, index_list):\n",
    "    # Calculate final relative node positions in Case 1\n",
    "    # (see 'visualize_network.ipynb')\n",
    "    nNodes = len(tag_list)\n",
    "    graph_too_big = False\n",
    "    new_r_min = r_min\n",
    "    max_tags = max(tag_list[1:])\n",
    "    while not graph_too_big:\n",
    "        new_r_min = new_r_min + 1\n",
    "        r_trial = (new_r_min * max_tags) / np.array(tag_list[1:])\n",
    "        (x_pos, y_pos, graph_width, graph_height) = generate_relative_graph(nNodes, r_trial, size_sec)\n",
    "        if (graph_width > fig_width) | (graph_height > fig_height): graph_too_big = True\n",
    "    new_r_min = new_r_min - 2\n",
    "    r_trial = (new_r_min * max_tags) / np.array(tag_list[1:])\n",
    "    (x_pos, y_pos, graph_width, graph_height) = generate_relative_graph(nNodes, r_trial, size_sec)\n",
    "    return (x_pos, y_pos, graph_width, graph_height)"
   ]
  },
  {
   "cell_type": "code",
   "execution_count": 11,
   "metadata": {
    "collapsed": true
   },
   "outputs": [],
   "source": [
    "def case2_positions(r_min, tag_list, size_sec, fig_width, fig_height, index_list):\n",
    "    # Calculate final relative node positions in Case 2\n",
    "    # (see 'visualize_network.ipynb')\n",
    "    nNodes = len(tag_list)\n",
    "    graph_too_big = False\n",
    "    r_max = r_min\n",
    "    min_tags = min(tag_list[1:])\n",
    "    max_tags = max(tag_list[1:])\n",
    "    while not graph_too_big:\n",
    "        r_max = r_max + 1\n",
    "        rad_slope = (r_min - r_max) / (max_tags - min_tags)\n",
    "        rad_intercept = (r_max * max_tags - r_min * min_tags) / (max_tags - min_tags)\n",
    "        this_tags = np.array(tag_list[1:])\n",
    "        r_trial = rad_slope * this_tags + rad_intercept\n",
    "        (x_pos, y_pos, graph_width, graph_height) = generate_relative_graph(nNodes, r_trial, size_sec)\n",
    "        if (graph_width > fig_width) | (graph_height > fig_height): graph_too_big = True\n",
    "    r_max = r_max - 2\n",
    "    rad_slope = (r_min - r_max) / (max_tags - min_tags)\n",
    "    rad_intercept = (r_max * max_tags - r_min * min_tags) / (max_tags - min_tags)\n",
    "    this_tags = np.array(tag_list[1:])\n",
    "    r_trial = rad_slope * this_tags + rad_intercept\n",
    "    (x_pos, y_pos, graph_width, graph_height) = generate_relative_graph(nNodes, r_trial, size_sec)\n",
    "    return (x_pos, y_pos, graph_width, graph_height)"
   ]
  },
  {
   "cell_type": "code",
   "execution_count": 12,
   "metadata": {
    "collapsed": true
   },
   "outputs": [],
   "source": [
    "def node_positions(input_tag_list, fig_width, fig_height, size_prim, size_sec, r_min):\n",
    "    # Initial ordering of the tag list, saving their indexes\n",
    "    tag_list = input_tag_list\n",
    "    index_list = range(len(tag_list))\n",
    "    zip_list = [(0, 0)] + sorted(zip(tag_list[1:], index_list[1:]), reverse = True)\n",
    "    index_list = [index for tag, index in zip_list]\n",
    "    tag_list = [tag for tag, index in zip_list]\n",
    "    # Cut off all the nodes we know won't able to fit\n",
    "    n_max = int((fig_width / size_sec) * (fig_height / size_sec)) + 1\n",
    "    if len(tag_list) > n_max:\n",
    "        tag_list = tag_list[0:n_max]\n",
    "        index_list = index_list[0:n_max]\n",
    "    # Start checking for overlap\n",
    "    overlap = True\n",
    "    while overlap == True:\n",
    "        nNodes = len(tag_list)\n",
    "        # Check which case we have\n",
    "        if nNodes == 1:\n",
    "            node_pos = [0, int(round(fig_width / 2)), int(round(fig_height / 2))]\n",
    "        if nNodes == 2:\n",
    "            first_node = [[0, int(round((fig_width - r_min) / 2)), int(round(fig_height / 2))]]\n",
    "            second_node = [[1, int(round((fig_width + r_min) / 2)), int(round(fig_height / 2))]]\n",
    "            node_pos = first_node + second_node\n",
    "        if nNodes > 2:\n",
    "            min_tags = min(tag_list[1:])\n",
    "            max_tags = max(tag_list[1:])\n",
    "            r_trial = (r_min * max_tags) / np.array(tag_list[1:])\n",
    "            (x_pos, y_pos, graph_width, graph_height) = generate_relative_graph(nNodes, r_trial, size_sec)       \n",
    "            # Decide which case it is and generate relative node positions\n",
    "            if (graph_width <= fig_width) & (graph_height <= fig_height): \n",
    "                (x_pos, y_pos, graph_width, graph_height) = case1_positions(r_min, tag_list, size_sec, fig_width, fig_height, index_list)\n",
    "            else: \n",
    "                (x_pos, y_pos, graph_width, graph_height) = case2_positions(r_min, tag_list, size_sec, fig_width, fig_height, index_list)\n",
    "            # Check for overlap by comparing the positions of two neighboring nodes\n",
    "            overlap = False\n",
    "            i = 0\n",
    "            while (overlap == False) and (i < (len(x_pos) - 1)):\n",
    "                x1, y1 = x_pos[i], y_pos[i]\n",
    "                x2, y2 = x_pos[i + 1], y_pos[i + 1]\n",
    "                if np.sqrt((x1 - x2)**2 + (y1 - y2)**2) < size_sec: overlap = True\n",
    "                i = i + 1\n",
    "            # Generate absolute node positions in the figure\n",
    "            xC = abs(min(x_pos)) + size_sec / 2 + (fig_width - graph_width) / 2\n",
    "            yC = abs(min(y_pos)) + size_sec / 2 + (fig_height - graph_height) / 2\n",
    "            node_pos_dict = {0: [xC, yC]}\n",
    "            for n in range(nNodes - 1):\n",
    "                node_pos_dict[index_list[n + 1]] = [xC + x_pos[n], yC + y_pos[n]]\n",
    "            node_pos = [[n, int(round(node_pos_dict[n][0])), int(round(node_pos_dict[n][1]))] for n in node_pos_dict.keys()]                           \n",
    "        # If there is overlap, remove the least popular node, and do it again\n",
    "        if overlap == True: \n",
    "            del tag_list[-1]           \n",
    "            del index_list[-1]\n",
    "    return node_pos"
   ]
  },
  {
   "cell_type": "markdown",
   "metadata": {},
   "source": [
    "# Test"
   ]
  },
  {
   "cell_type": "code",
   "execution_count": 13,
   "metadata": {
    "collapsed": false
   },
   "outputs": [],
   "source": [
    "fig_width = 1000\n",
    "fig_height = 800\n",
    "size_prim = 200\n",
    "size_sec = 200\n",
    "r_min = 200\n",
    "#tag_list = [0, 12, 1, 4, 2, 1, 2, 1] # Case 2\n",
    "#tag_list = [0, 1, 2, 3, 3, 4, 1, 1] # Case 1\n",
    "tag_list = [0, 9, 8, 9, 2, 4, 7, 2, 4, 3, 2, 5, 6, 2, 1, 4, 5, 6, 7, 8, 9, 4, 5, 2, 6, 3, 6, 3, 7, 5, 6, 2, 6, 2]\n",
    "#tag_list = [0, 1, 3, 1, 1, 1, 1, 1, 1, 1, 2]\n",
    "#tag_list = [0, 1, 5, 7, 1, 5, 7, 5, 7, 1, 5, 7]"
   ]
  },
  {
   "cell_type": "code",
   "execution_count": 14,
   "metadata": {
    "collapsed": false
   },
   "outputs": [
    {
     "data": {
      "text/plain": [
       "[[0, 502, 437],\n",
       " [1, 442, 698],\n",
       " [2, 230, 306],\n",
       " [3, 669, 647],\n",
       " [18, 716, 168],\n",
       " [19, 230, 568],\n",
       " [20, 770, 437],\n",
       " [28, 425, 102]]"
      ]
     },
     "execution_count": 14,
     "metadata": {},
     "output_type": "execute_result"
    }
   ],
   "source": [
    "node_positions(tag_list, fig_width, fig_height, size_prim, size_sec, r_min)"
   ]
  }
 ],
 "metadata": {
  "anaconda-cloud": {},
  "kernelspec": {
   "display_name": "Python [Root]",
   "language": "python",
   "name": "Python [Root]"
  },
  "language_info": {
   "codemirror_mode": {
    "name": "ipython",
    "version": 2
   },
   "file_extension": ".py",
   "mimetype": "text/x-python",
   "name": "python",
   "nbconvert_exporter": "python",
   "pygments_lexer": "ipython2",
   "version": "2.7.12"
  }
 },
 "nbformat": 4,
 "nbformat_minor": 0
}
