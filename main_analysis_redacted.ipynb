{
 "cells": [
  {
   "cell_type": "markdown",
   "metadata": {},
   "source": [
    "# Introduction"
   ]
  },
  {
   "cell_type": "markdown",
   "metadata": {},
   "source": [
    "This is the main analysis notebook that will fetch the data from the SQL db on Heroku, analyze it, visualize it and attempt to model it (work in progress)."
   ]
  },
  {
   "cell_type": "markdown",
   "metadata": {},
   "source": [
    "# 1. Connect and inspect database"
   ]
  },
  {
   "cell_type": "code",
   "execution_count": 1,
   "metadata": {
    "collapsed": false,
    "nbpresent": {
     "id": "a736f6e2-b6f5-459d-8ff0-516cc9a86df6"
    }
   },
   "outputs": [],
   "source": [
    "%matplotlib inline\n",
    "import sys\n",
    "import networkx as nx\n",
    "import matplotlib.pyplot as plt\n",
    "import pandas as pd\n",
    "import numpy as np\n",
    "import seaborn; seaborn.set() # For pretty plots\n",
    "# %config InlineBackend.figure_format='svg' # High res plots"
   ]
  },
  {
   "cell_type": "markdown",
   "metadata": {},
   "source": [
    "### 1.1 Connect to the DB"
   ]
  },
  {
   "cell_type": "markdown",
   "metadata": {},
   "source": [
    "We'll use the `psycopg2` package to connect to the PostreSQL DB on Heroku:"
   ]
  },
  {
   "cell_type": "code",
   "execution_count": 143,
   "metadata": {
    "collapsed": false,
    "nbpresent": {
     "id": "7db18142-8874-4e1d-9316-3744d56fc4ad"
    }
   },
   "outputs": [],
   "source": [
    "dbname = 'redacted'\n",
    "host = 'redacted'\n",
    "port = 'redacted'\n",
    "user = 'redacted'\n",
    "password = 'redacted'"
   ]
  },
  {
   "cell_type": "code",
   "execution_count": 3,
   "metadata": {
    "collapsed": false,
    "nbpresent": {
     "id": "254e489b-8115-474b-9881-9467351b0330"
    }
   },
   "outputs": [],
   "source": [
    "import psycopg2\n",
    "conn = psycopg2.connect(\n",
    "   database = dbname,\n",
    "   user = user,\n",
    "   password = password,\n",
    "   host = host,\n",
    "   port = port\n",
    ")"
   ]
  },
  {
   "cell_type": "markdown",
   "metadata": {},
   "source": [
    "### 1.2 List all relevant tables and columns"
   ]
  },
  {
   "cell_type": "markdown",
   "metadata": {
    "nbpresent": {
     "id": "dc0fe4d6-7310-4f6c-bb8c-e14fd3e960ab"
    }
   },
   "source": [
    "Get all the relevant table names"
   ]
  },
  {
   "cell_type": "code",
   "execution_count": 7,
   "metadata": {
    "collapsed": false,
    "nbpresent": {
     "id": "a75fe73e-99a2-4f76-80a7-0cafeca21bb8"
    }
   },
   "outputs": [],
   "source": [
    "sql_query = \"\"\"\n",
    "            SELECT table_name \n",
    "            FROM information_schema.tables \n",
    "            WHERE table_name LIKE 'main_%'\n",
    "            \"\"\"\n",
    "table_list = pd.read_sql(sql_query, conn)"
   ]
  },
  {
   "cell_type": "markdown",
   "metadata": {
    "nbpresent": {
     "id": "ba3a38fc-1528-4821-9646-4796bd8cec8b"
    }
   },
   "source": [
    "Get all the relevant column names"
   ]
  },
  {
   "cell_type": "code",
   "execution_count": 8,
   "metadata": {
    "collapsed": false,
    "nbpresent": {
     "id": "4379f2f1-154c-4b89-bbd9-ed3a41d83eae"
    }
   },
   "outputs": [],
   "source": [
    "sql_query = \"\"\"\n",
    "            SELECT column_name, table_name \n",
    "            FROM information_schema.columns\n",
    "            WHERE table_name LIKE 'main_%'\n",
    "            \"\"\"\n",
    "col_list = pd.read_sql(sql_query, conn)"
   ]
  },
  {
   "cell_type": "markdown",
   "metadata": {
    "nbpresent": {
     "id": "ce632cdf-6d54-4fb9-bb90-3103c7fc81aa"
    }
   },
   "source": [
    "Massage them into a nice DF"
   ]
  },
  {
   "cell_type": "code",
   "execution_count": 9,
   "metadata": {
    "collapsed": false,
    "nbpresent": {
     "id": "64d44f29-9162-4cb4-bd70-f446ef187f73"
    }
   },
   "outputs": [
    {
     "data": {
      "text/html": [
       "<div>\n",
       "<table border=\"1\" class=\"dataframe\">\n",
       "  <thead>\n",
       "    <tr style=\"text-align: right;\">\n",
       "      <th></th>\n",
       "      <th>main_comment</th>\n",
       "      <th>main_instagrammedia</th>\n",
       "      <th>main_survey</th>\n",
       "      <th>main_tags</th>\n",
       "      <th>main_user</th>\n",
       "      <th>main_usersinphoto</th>\n",
       "    </tr>\n",
       "  </thead>\n",
       "  <tbody>\n",
       "    <tr>\n",
       "      <th>0</th>\n",
       "      <td>id</td>\n",
       "      <td>id</td>\n",
       "      <td>id</td>\n",
       "      <td>id</td>\n",
       "      <td>id</td>\n",
       "      <td>id</td>\n",
       "    </tr>\n",
       "    <tr>\n",
       "      <th>1</th>\n",
       "      <td>created_time</td>\n",
       "      <td>type</td>\n",
       "      <td>age</td>\n",
       "      <td>tag</td>\n",
       "      <td>username</td>\n",
       "      <td>username</td>\n",
       "    </tr>\n",
       "    <tr>\n",
       "      <th>2</th>\n",
       "      <td>text</td>\n",
       "      <td>mediaId</td>\n",
       "      <td>gender</td>\n",
       "      <td>photo_id</td>\n",
       "      <td>full_name</td>\n",
       "      <td>full_name</td>\n",
       "    </tr>\n",
       "    <tr>\n",
       "      <th>3</th>\n",
       "      <td>user_id</td>\n",
       "      <td>userId</td>\n",
       "      <td>race</td>\n",
       "      <td>-----</td>\n",
       "      <td>profilePictureUrl</td>\n",
       "      <td>profilePictureUrl</td>\n",
       "    </tr>\n",
       "    <tr>\n",
       "      <th>4</th>\n",
       "      <td>comment_id</td>\n",
       "      <td>likes</td>\n",
       "      <td>height</td>\n",
       "      <td>-----</td>\n",
       "      <td>userId</td>\n",
       "      <td>userId</td>\n",
       "    </tr>\n",
       "    <tr>\n",
       "      <th>5</th>\n",
       "      <td>photo_id</td>\n",
       "      <td>comments</td>\n",
       "      <td>weight</td>\n",
       "      <td>-----</td>\n",
       "      <td>profileImage</td>\n",
       "      <td>profileImage</td>\n",
       "    </tr>\n",
       "    <tr>\n",
       "      <th>6</th>\n",
       "      <td>-----</td>\n",
       "      <td>captionText</td>\n",
       "      <td>drinks</td>\n",
       "      <td>-----</td>\n",
       "      <td>bio</td>\n",
       "      <td>photo_id</td>\n",
       "    </tr>\n",
       "    <tr>\n",
       "      <th>7</th>\n",
       "      <td>-----</td>\n",
       "      <td>imageURL</td>\n",
       "      <td>tobacco</td>\n",
       "      <td>-----</td>\n",
       "      <td>website</td>\n",
       "      <td>-----</td>\n",
       "    </tr>\n",
       "    <tr>\n",
       "      <th>8</th>\n",
       "      <td>-----</td>\n",
       "      <td>image</td>\n",
       "      <td>prescription_drugs</td>\n",
       "      <td>-----</td>\n",
       "      <td>media</td>\n",
       "      <td>-----</td>\n",
       "    </tr>\n",
       "    <tr>\n",
       "      <th>9</th>\n",
       "      <td>-----</td>\n",
       "      <td>importDate</td>\n",
       "      <td>illegal_drugs</td>\n",
       "      <td>-----</td>\n",
       "      <td>follows</td>\n",
       "      <td>-----</td>\n",
       "    </tr>\n",
       "    <tr>\n",
       "      <th>10</th>\n",
       "      <td>-----</td>\n",
       "      <td>createdTime</td>\n",
       "      <td>createDate</td>\n",
       "      <td>-----</td>\n",
       "      <td>followed_by</td>\n",
       "      <td>-----</td>\n",
       "    </tr>\n",
       "    <tr>\n",
       "      <th>11</th>\n",
       "      <td>-----</td>\n",
       "      <td>survey_id</td>\n",
       "      <td>network_size</td>\n",
       "      <td>-----</td>\n",
       "      <td>currently_imported</td>\n",
       "      <td>-----</td>\n",
       "    </tr>\n",
       "    <tr>\n",
       "      <th>12</th>\n",
       "      <td>-----</td>\n",
       "      <td>-----</td>\n",
       "      <td>breakup</td>\n",
       "      <td>-----</td>\n",
       "      <td>done_import</td>\n",
       "      <td>-----</td>\n",
       "    </tr>\n",
       "    <tr>\n",
       "      <th>13</th>\n",
       "      <td>-----</td>\n",
       "      <td>-----</td>\n",
       "      <td>creativity</td>\n",
       "      <td>-----</td>\n",
       "      <td>survey_id</td>\n",
       "      <td>-----</td>\n",
       "    </tr>\n",
       "    <tr>\n",
       "      <th>14</th>\n",
       "      <td>-----</td>\n",
       "      <td>-----</td>\n",
       "      <td>death_loved</td>\n",
       "      <td>-----</td>\n",
       "      <td>TagPhoto</td>\n",
       "      <td>-----</td>\n",
       "    </tr>\n",
       "    <tr>\n",
       "      <th>15</th>\n",
       "      <td>-----</td>\n",
       "      <td>-----</td>\n",
       "      <td>food</td>\n",
       "      <td>-----</td>\n",
       "      <td>-----</td>\n",
       "      <td>-----</td>\n",
       "    </tr>\n",
       "    <tr>\n",
       "      <th>16</th>\n",
       "      <td>-----</td>\n",
       "      <td>-----</td>\n",
       "      <td>happy</td>\n",
       "      <td>-----</td>\n",
       "      <td>-----</td>\n",
       "      <td>-----</td>\n",
       "    </tr>\n",
       "    <tr>\n",
       "      <th>17</th>\n",
       "      <td>-----</td>\n",
       "      <td>-----</td>\n",
       "      <td>major_friendship</td>\n",
       "      <td>-----</td>\n",
       "      <td>-----</td>\n",
       "      <td>-----</td>\n",
       "    </tr>\n",
       "    <tr>\n",
       "      <th>18</th>\n",
       "      <td>-----</td>\n",
       "      <td>-----</td>\n",
       "      <td>narcissist</td>\n",
       "      <td>-----</td>\n",
       "      <td>-----</td>\n",
       "      <td>-----</td>\n",
       "    </tr>\n",
       "    <tr>\n",
       "      <th>19</th>\n",
       "      <td>-----</td>\n",
       "      <td>-----</td>\n",
       "      <td>other_loss</td>\n",
       "      <td>-----</td>\n",
       "      <td>-----</td>\n",
       "      <td>-----</td>\n",
       "    </tr>\n",
       "  </tbody>\n",
       "</table>\n",
       "</div>"
      ],
      "text/plain": [
       "    main_comment main_instagrammedia         main_survey main_tags  \\\n",
       "0             id                  id                  id        id   \n",
       "1   created_time                type                 age       tag   \n",
       "2           text             mediaId              gender  photo_id   \n",
       "3        user_id              userId                race     -----   \n",
       "4     comment_id               likes              height     -----   \n",
       "5       photo_id            comments              weight     -----   \n",
       "6          -----         captionText              drinks     -----   \n",
       "7          -----            imageURL             tobacco     -----   \n",
       "8          -----               image  prescription_drugs     -----   \n",
       "9          -----          importDate       illegal_drugs     -----   \n",
       "10         -----         createdTime          createDate     -----   \n",
       "11         -----           survey_id        network_size     -----   \n",
       "12         -----               -----             breakup     -----   \n",
       "13         -----               -----          creativity     -----   \n",
       "14         -----               -----         death_loved     -----   \n",
       "15         -----               -----                food     -----   \n",
       "16         -----               -----               happy     -----   \n",
       "17         -----               -----    major_friendship     -----   \n",
       "18         -----               -----          narcissist     -----   \n",
       "19         -----               -----          other_loss     -----   \n",
       "\n",
       "             main_user  main_usersinphoto  \n",
       "0                   id                 id  \n",
       "1             username           username  \n",
       "2            full_name          full_name  \n",
       "3    profilePictureUrl  profilePictureUrl  \n",
       "4               userId             userId  \n",
       "5         profileImage       profileImage  \n",
       "6                  bio           photo_id  \n",
       "7              website              -----  \n",
       "8                media              -----  \n",
       "9              follows              -----  \n",
       "10         followed_by              -----  \n",
       "11  currently_imported              -----  \n",
       "12         done_import              -----  \n",
       "13           survey_id              -----  \n",
       "14            TagPhoto              -----  \n",
       "15               -----              -----  \n",
       "16               -----              -----  \n",
       "17               -----              -----  \n",
       "18               -----              -----  \n",
       "19               -----              -----  "
      ]
     },
     "execution_count": 9,
     "metadata": {},
     "output_type": "execute_result"
    }
   ],
   "source": [
    "# Generate a dictionary containing all column names\n",
    "DF_dict = {}\n",
    "for name in list(table_list['table_name']):\n",
    "    DF_dict[name] = list(col_list[col_list['table_name'] == name]['column_name'])\n",
    "\n",
    "# Fill it up so all lists are equal length\n",
    "max_length = max([len(f) for f in DF_dict.values()])\n",
    "for key, value in DF_dict.items():\n",
    "    DF_dict[key] = DF_dict[key] + ['-----'] * (max_length - len(DF_dict[key]))\n",
    "\n",
    "# Create a DataFrame\n",
    "all_columns = pd.DataFrame(DF_dict)\n",
    "all_columns"
   ]
  },
  {
   "cell_type": "markdown",
   "metadata": {},
   "source": [
    "### 1.3 Get general user data"
   ]
  },
  {
   "cell_type": "markdown",
   "metadata": {},
   "source": [
    "Note `LEFT JOIN`, since some user may not have any media data, and also we're (temporarily) including `survey_id` column to weed out multiple entries:"
   ]
  },
  {
   "cell_type": "code",
   "execution_count": 40,
   "metadata": {
    "collapsed": false
   },
   "outputs": [
    {
     "data": {
      "text/plain": [
       "115"
      ]
     },
     "execution_count": 40,
     "metadata": {},
     "output_type": "execute_result"
    }
   ],
   "source": [
    "sql_query = \"\"\"\n",
    "            SELECT distinct main_user.\"userId\", age, gender, race, height, weight, drinks, \n",
    "                   tobacco, illegal_drugs, prescription_drugs, media, likes, comments, follows, followed_by \n",
    "            FROM main_user\n",
    "            JOIN main_survey \n",
    "            ON main_user.survey_id = main_survey.id \n",
    "            LEFT JOIN (\n",
    "                       SELECT SUM(likes) AS likes, sum(comments) AS comments, survey_id AS id \n",
    "                       FROM main_instagrammedia \n",
    "                       GROUP BY survey_id\n",
    "                      ) media_totals \n",
    "            ON main_survey.id = media_totals.id;\n",
    "            \"\"\"\n",
    "arradata = pd.read_sql(sql_query, conn)\n",
    "len(arradata)"
   ]
  },
  {
   "cell_type": "code",
   "execution_count": 41,
   "metadata": {
    "collapsed": false
   },
   "outputs": [
    {
     "data": {
      "text/html": [
       "<div>\n",
       "<table border=\"1\" class=\"dataframe\">\n",
       "  <thead>\n",
       "    <tr style=\"text-align: right;\">\n",
       "      <th></th>\n",
       "      <th>age</th>\n",
       "      <th>gender</th>\n",
       "      <th>race</th>\n",
       "      <th>height</th>\n",
       "      <th>weight</th>\n",
       "      <th>drinks</th>\n",
       "      <th>tobacco</th>\n",
       "      <th>illegal_drugs</th>\n",
       "      <th>prescription_drugs</th>\n",
       "      <th>media</th>\n",
       "      <th>likes</th>\n",
       "      <th>comments</th>\n",
       "      <th>follows</th>\n",
       "      <th>followed_by</th>\n",
       "    </tr>\n",
       "  </thead>\n",
       "  <tbody>\n",
       "    <tr>\n",
       "      <th>0</th>\n",
       "      <td>31</td>\n",
       "      <td>Male</td>\n",
       "      <td>White</td>\n",
       "      <td>170</td>\n",
       "      <td>51</td>\n",
       "      <td>Once or Twice</td>\n",
       "      <td>Daily or Almost Daily</td>\n",
       "      <td>Never</td>\n",
       "      <td>Daily or Almost Daily</td>\n",
       "      <td>0</td>\n",
       "      <td>NaN</td>\n",
       "      <td>NaN</td>\n",
       "      <td>0</td>\n",
       "      <td>0</td>\n",
       "    </tr>\n",
       "    <tr>\n",
       "      <th>1</th>\n",
       "      <td>30</td>\n",
       "      <td>Female</td>\n",
       "      <td>White</td>\n",
       "      <td>163</td>\n",
       "      <td>61</td>\n",
       "      <td>Once or Twice</td>\n",
       "      <td>Never</td>\n",
       "      <td>Never</td>\n",
       "      <td>Never</td>\n",
       "      <td>50</td>\n",
       "      <td>612.0</td>\n",
       "      <td>46.0</td>\n",
       "      <td>264</td>\n",
       "      <td>179</td>\n",
       "    </tr>\n",
       "    <tr>\n",
       "      <th>2</th>\n",
       "      <td>36</td>\n",
       "      <td>Female</td>\n",
       "      <td>White</td>\n",
       "      <td>163</td>\n",
       "      <td>68</td>\n",
       "      <td>Never</td>\n",
       "      <td>Never</td>\n",
       "      <td>Never</td>\n",
       "      <td>Never</td>\n",
       "      <td>0</td>\n",
       "      <td>NaN</td>\n",
       "      <td>NaN</td>\n",
       "      <td>0</td>\n",
       "      <td>0</td>\n",
       "    </tr>\n",
       "    <tr>\n",
       "      <th>3</th>\n",
       "      <td>31</td>\n",
       "      <td>Male</td>\n",
       "      <td>White</td>\n",
       "      <td>188</td>\n",
       "      <td>147</td>\n",
       "      <td>Never</td>\n",
       "      <td>Never</td>\n",
       "      <td>Never</td>\n",
       "      <td>Daily or Almost Daily</td>\n",
       "      <td>30</td>\n",
       "      <td>182.0</td>\n",
       "      <td>45.0</td>\n",
       "      <td>92</td>\n",
       "      <td>46</td>\n",
       "    </tr>\n",
       "    <tr>\n",
       "      <th>4</th>\n",
       "      <td>30</td>\n",
       "      <td>Female</td>\n",
       "      <td>White</td>\n",
       "      <td>165</td>\n",
       "      <td>72</td>\n",
       "      <td>Weekly</td>\n",
       "      <td>Once or Twice</td>\n",
       "      <td>Never</td>\n",
       "      <td>Never</td>\n",
       "      <td>647</td>\n",
       "      <td>4390.0</td>\n",
       "      <td>368.0</td>\n",
       "      <td>233</td>\n",
       "      <td>196</td>\n",
       "    </tr>\n",
       "  </tbody>\n",
       "</table>\n",
       "</div>"
      ],
      "text/plain": [
       "   age  gender   race  height  weight         drinks                tobacco  \\\n",
       "0   31    Male  White     170      51  Once or Twice  Daily or Almost Daily   \n",
       "1   30  Female  White     163      61  Once or Twice                  Never   \n",
       "2   36  Female  White     163      68          Never                  Never   \n",
       "3   31    Male  White     188     147          Never                  Never   \n",
       "4   30  Female  White     165      72         Weekly          Once or Twice   \n",
       "\n",
       "  illegal_drugs     prescription_drugs  media   likes  comments  follows  \\\n",
       "0         Never  Daily or Almost Daily      0     NaN       NaN        0   \n",
       "1         Never                  Never     50   612.0      46.0      264   \n",
       "2         Never                  Never      0     NaN       NaN        0   \n",
       "3         Never  Daily or Almost Daily     30   182.0      45.0       92   \n",
       "4         Never                  Never    647  4390.0     368.0      233   \n",
       "\n",
       "   followed_by  \n",
       "0            0  \n",
       "1          179  \n",
       "2            0  \n",
       "3           46  \n",
       "4          196  "
      ]
     },
     "execution_count": 41,
     "metadata": {},
     "output_type": "execute_result"
    }
   ],
   "source": [
    "arradata.ix[:,1:].head() # Omitting 1st column since it contains user IDs"
   ]
  },
  {
   "cell_type": "markdown",
   "metadata": {},
   "source": [
    "# 2. Clean up data, generate features and exploratory analysis"
   ]
  },
  {
   "cell_type": "markdown",
   "metadata": {},
   "source": [
    "### 2.1 Clean up data"
   ]
  },
  {
   "cell_type": "markdown",
   "metadata": {},
   "source": [
    "Quantify survey answers:"
   ]
  },
  {
   "cell_type": "code",
   "execution_count": 42,
   "metadata": {
    "collapsed": true
   },
   "outputs": [],
   "source": [
    "quantify_substances = {'Never': 1, 'Once or Twice': 2, 'Monthly': 3, 'Weekly': 4, 'Daily or Almost Daily': 5}"
   ]
  },
  {
   "cell_type": "code",
   "execution_count": 43,
   "metadata": {
    "collapsed": false
   },
   "outputs": [],
   "source": [
    "arradata['drinks'] = arradata['drinks'].replace(quantify_substances)\n",
    "arradata['tobacco'] = arradata['tobacco'].replace(quantify_substances)\n",
    "arradata['illegal_drugs'] = arradata['illegal_drugs'].replace(quantify_substances)\n",
    "arradata['prescription_drugs'] = arradata['prescription_drugs'].replace(quantify_substances)"
   ]
  },
  {
   "cell_type": "markdown",
   "metadata": {},
   "source": [
    "Replace the `NaN`'s in comments and likes (due to left join) with 0's:"
   ]
  },
  {
   "cell_type": "code",
   "execution_count": 44,
   "metadata": {
    "collapsed": true
   },
   "outputs": [],
   "source": [
    "arradata = arradata.fillna({'comments': 0, 'likes': 0})"
   ]
  },
  {
   "cell_type": "markdown",
   "metadata": {},
   "source": [
    "Convert likes and comments to integers:"
   ]
  },
  {
   "cell_type": "code",
   "execution_count": 45,
   "metadata": {
    "collapsed": false
   },
   "outputs": [],
   "source": [
    "arradata['likes'] = arradata['likes'].astype(int)\n",
    "arradata['comments'] = arradata['comments'].astype(int)"
   ]
  },
  {
   "cell_type": "code",
   "execution_count": 46,
   "metadata": {
    "collapsed": false,
    "scrolled": true
   },
   "outputs": [
    {
     "data": {
      "text/html": [
       "<div>\n",
       "<table border=\"1\" class=\"dataframe\">\n",
       "  <thead>\n",
       "    <tr style=\"text-align: right;\">\n",
       "      <th></th>\n",
       "      <th>age</th>\n",
       "      <th>gender</th>\n",
       "      <th>race</th>\n",
       "      <th>height</th>\n",
       "      <th>weight</th>\n",
       "      <th>drinks</th>\n",
       "      <th>tobacco</th>\n",
       "      <th>illegal_drugs</th>\n",
       "      <th>prescription_drugs</th>\n",
       "      <th>media</th>\n",
       "      <th>likes</th>\n",
       "      <th>comments</th>\n",
       "      <th>follows</th>\n",
       "      <th>followed_by</th>\n",
       "    </tr>\n",
       "  </thead>\n",
       "  <tbody>\n",
       "    <tr>\n",
       "      <th>0</th>\n",
       "      <td>31</td>\n",
       "      <td>Male</td>\n",
       "      <td>White</td>\n",
       "      <td>170</td>\n",
       "      <td>51</td>\n",
       "      <td>2</td>\n",
       "      <td>5</td>\n",
       "      <td>1</td>\n",
       "      <td>5</td>\n",
       "      <td>0</td>\n",
       "      <td>0</td>\n",
       "      <td>0</td>\n",
       "      <td>0</td>\n",
       "      <td>0</td>\n",
       "    </tr>\n",
       "    <tr>\n",
       "      <th>1</th>\n",
       "      <td>30</td>\n",
       "      <td>Female</td>\n",
       "      <td>White</td>\n",
       "      <td>163</td>\n",
       "      <td>61</td>\n",
       "      <td>2</td>\n",
       "      <td>1</td>\n",
       "      <td>1</td>\n",
       "      <td>1</td>\n",
       "      <td>50</td>\n",
       "      <td>612</td>\n",
       "      <td>46</td>\n",
       "      <td>264</td>\n",
       "      <td>179</td>\n",
       "    </tr>\n",
       "    <tr>\n",
       "      <th>2</th>\n",
       "      <td>36</td>\n",
       "      <td>Female</td>\n",
       "      <td>White</td>\n",
       "      <td>163</td>\n",
       "      <td>68</td>\n",
       "      <td>1</td>\n",
       "      <td>1</td>\n",
       "      <td>1</td>\n",
       "      <td>1</td>\n",
       "      <td>0</td>\n",
       "      <td>0</td>\n",
       "      <td>0</td>\n",
       "      <td>0</td>\n",
       "      <td>0</td>\n",
       "    </tr>\n",
       "    <tr>\n",
       "      <th>3</th>\n",
       "      <td>31</td>\n",
       "      <td>Male</td>\n",
       "      <td>White</td>\n",
       "      <td>188</td>\n",
       "      <td>147</td>\n",
       "      <td>1</td>\n",
       "      <td>1</td>\n",
       "      <td>1</td>\n",
       "      <td>5</td>\n",
       "      <td>30</td>\n",
       "      <td>182</td>\n",
       "      <td>45</td>\n",
       "      <td>92</td>\n",
       "      <td>46</td>\n",
       "    </tr>\n",
       "    <tr>\n",
       "      <th>4</th>\n",
       "      <td>30</td>\n",
       "      <td>Female</td>\n",
       "      <td>White</td>\n",
       "      <td>165</td>\n",
       "      <td>72</td>\n",
       "      <td>4</td>\n",
       "      <td>2</td>\n",
       "      <td>1</td>\n",
       "      <td>1</td>\n",
       "      <td>647</td>\n",
       "      <td>4390</td>\n",
       "      <td>368</td>\n",
       "      <td>233</td>\n",
       "      <td>196</td>\n",
       "    </tr>\n",
       "  </tbody>\n",
       "</table>\n",
       "</div>"
      ],
      "text/plain": [
       "   age  gender   race  height  weight  drinks  tobacco  illegal_drugs  \\\n",
       "0   31    Male  White     170      51       2        5              1   \n",
       "1   30  Female  White     163      61       2        1              1   \n",
       "2   36  Female  White     163      68       1        1              1   \n",
       "3   31    Male  White     188     147       1        1              1   \n",
       "4   30  Female  White     165      72       4        2              1   \n",
       "\n",
       "   prescription_drugs  media  likes  comments  follows  followed_by  \n",
       "0                   5      0      0         0        0            0  \n",
       "1                   1     50    612        46      264          179  \n",
       "2                   1      0      0         0        0            0  \n",
       "3                   5     30    182        45       92           46  \n",
       "4                   1    647   4390       368      233          196  "
      ]
     },
     "execution_count": 46,
     "metadata": {},
     "output_type": "execute_result"
    }
   ],
   "source": [
    "arradata.ix[:,1:].head()"
   ]
  },
  {
   "cell_type": "markdown",
   "metadata": {},
   "source": [
    "Check there are no more missing data:"
   ]
  },
  {
   "cell_type": "code",
   "execution_count": 47,
   "metadata": {
    "collapsed": false,
    "scrolled": true
   },
   "outputs": [
    {
     "data": {
      "text/plain": [
       "False"
      ]
     },
     "execution_count": 47,
     "metadata": {},
     "output_type": "execute_result"
    }
   ],
   "source": [
    "arradata.isnull().values.any()"
   ]
  },
  {
   "cell_type": "markdown",
   "metadata": {},
   "source": [
    "Also remove duplicate users"
   ]
  },
  {
   "cell_type": "code",
   "execution_count": 48,
   "metadata": {
    "collapsed": false
   },
   "outputs": [],
   "source": [
    "arradata = arradata.drop_duplicates('userId')"
   ]
  },
  {
   "cell_type": "markdown",
   "metadata": {},
   "source": [
    "Also remove ridiculous entries"
   ]
  },
  {
   "cell_type": "code",
   "execution_count": 49,
   "metadata": {
    "collapsed": false
   },
   "outputs": [],
   "source": [
    "arradata = arradata[arradata['age'] < 100]\n",
    "arradata = arradata[arradata['age'] > 17]"
   ]
  },
  {
   "cell_type": "markdown",
   "metadata": {},
   "source": [
    "Set the user id as the index, since it will be easier to merge with SNA later:"
   ]
  },
  {
   "cell_type": "code",
   "execution_count": 50,
   "metadata": {
    "collapsed": true
   },
   "outputs": [],
   "source": [
    "arradata.index = list(arradata['userId'])\n",
    "arradata = arradata.drop('userId', axis = 1)"
   ]
  },
  {
   "cell_type": "markdown",
   "metadata": {},
   "source": [
    "Finally, this is how many healthy records we have:"
   ]
  },
  {
   "cell_type": "code",
   "execution_count": 51,
   "metadata": {
    "collapsed": false
   },
   "outputs": [
    {
     "data": {
      "text/plain": [
       "(110, 14)"
      ]
     },
     "execution_count": 51,
     "metadata": {},
     "output_type": "execute_result"
    }
   ],
   "source": [
    "no_raw_features = arradata.shape[1]\n",
    "arradata.shape"
   ]
  },
  {
   "cell_type": "markdown",
   "metadata": {},
   "source": [
    "### 2.2 Generate features"
   ]
  },
  {
   "cell_type": "markdown",
   "metadata": {},
   "source": [
    "Generate some potentially interesting features:"
   ]
  },
  {
   "cell_type": "code",
   "execution_count": 53,
   "metadata": {
    "collapsed": true
   },
   "outputs": [],
   "source": [
    "arradata['mean_likes'] = arradata['likes'] / (arradata['media'] + 1)\n",
    "arradata['mean_comments'] = arradata['comments'] / (arradata['media'] + 1)\n",
    "arradata['follow_ratio'] = arradata['followed_by'] / (arradata['follows'] + 1)\n",
    "arradata['magnetism'] = arradata['mean_likes'] * arradata['mean_comments'] * arradata['follow_ratio']\n",
    "arradata['bmi'] = arradata['weight'] / ((arradata['height'] / 100) **2)"
   ]
  },
  {
   "cell_type": "code",
   "execution_count": 54,
   "metadata": {
    "collapsed": true
   },
   "outputs": [],
   "source": [
    "arradata['log_follow_ratio'] = np.log(arradata['follow_ratio'] + 1)\n",
    "arradata['log_mean_activity'] = np.log(arradata['mean_likes'] * arradata['mean_comments'] + 1)\n",
    "arradata['log_magnetism'] = np.log(arradata['magnetism'] + 1)"
   ]
  },
  {
   "cell_type": "code",
   "execution_count": 55,
   "metadata": {
    "collapsed": false
   },
   "outputs": [],
   "source": [
    "# Potentially for later:\n",
    "# arradata['poster'] = no posts = yes\n",
    "# arradata['lurker'] = no posts and follows lots of people = yes"
   ]
  },
  {
   "cell_type": "markdown",
   "metadata": {},
   "source": [
    "Assign a BMI category:"
   ]
  },
  {
   "cell_type": "code",
   "execution_count": 56,
   "metadata": {
    "collapsed": true
   },
   "outputs": [],
   "source": [
    "def bmi_cat(bmi):\n",
    "    if bmi < 18.5: bmi_score = 'Underweight'\n",
    "    elif bmi < 25.0: bmi_score = 'Normal'\n",
    "    elif bmi < 30.0: bmi_score = 'Overweight'\n",
    "    else: bmi_score = 'Obese'\n",
    "    return bmi_score"
   ]
  },
  {
   "cell_type": "code",
   "execution_count": 57,
   "metadata": {
    "collapsed": false,
    "scrolled": true
   },
   "outputs": [],
   "source": [
    "arradata['bmi_cat'] = arradata[['bmi']].applymap(bmi_cat)['bmi']"
   ]
  },
  {
   "cell_type": "markdown",
   "metadata": {},
   "source": [
    "Ben's health score"
   ]
  },
  {
   "cell_type": "code",
   "execution_count": 58,
   "metadata": {
    "collapsed": true
   },
   "outputs": [],
   "source": [
    "bmi_score = {'Underweight': 2, 'Normal': 1, 'Overweight': 3, 'Obese': 4}\n",
    "bmi_score_f = lambda t: bmi_score[t]"
   ]
  },
  {
   "cell_type": "code",
   "execution_count": 59,
   "metadata": {
    "collapsed": false,
    "scrolled": true
   },
   "outputs": [],
   "source": [
    "arradata['health_score'] = (arradata['drinks'] + arradata['tobacco'] + arradata['prescription_drugs'] + \n",
    "                            arradata['illegal_drugs'] + arradata[['bmi_cat']].applymap(bmi_score_f)['bmi_cat'])"
   ]
  },
  {
   "cell_type": "markdown",
   "metadata": {},
   "source": [
    "We finally have:"
   ]
  },
  {
   "cell_type": "code",
   "execution_count": 60,
   "metadata": {
    "collapsed": false,
    "scrolled": true
   },
   "outputs": [
    {
     "data": {
      "text/html": [
       "<div>\n",
       "<table border=\"1\" class=\"dataframe\">\n",
       "  <thead>\n",
       "    <tr style=\"text-align: right;\">\n",
       "      <th></th>\n",
       "      <th>age</th>\n",
       "      <th>gender</th>\n",
       "      <th>race</th>\n",
       "      <th>height</th>\n",
       "      <th>weight</th>\n",
       "      <th>drinks</th>\n",
       "      <th>tobacco</th>\n",
       "      <th>illegal_drugs</th>\n",
       "      <th>prescription_drugs</th>\n",
       "      <th>media</th>\n",
       "      <th>...</th>\n",
       "      <th>mean_likes</th>\n",
       "      <th>mean_comments</th>\n",
       "      <th>follow_ratio</th>\n",
       "      <th>magnetism</th>\n",
       "      <th>bmi</th>\n",
       "      <th>log_follow_ratio</th>\n",
       "      <th>log_mean_activity</th>\n",
       "      <th>log_magnetism</th>\n",
       "      <th>bmi_cat</th>\n",
       "      <th>health_score</th>\n",
       "    </tr>\n",
       "  </thead>\n",
       "  <tbody>\n",
       "    <tr>\n",
       "      <th>0</th>\n",
       "      <td>31</td>\n",
       "      <td>Male</td>\n",
       "      <td>White</td>\n",
       "      <td>170</td>\n",
       "      <td>51</td>\n",
       "      <td>2</td>\n",
       "      <td>5</td>\n",
       "      <td>1</td>\n",
       "      <td>5</td>\n",
       "      <td>0</td>\n",
       "      <td>...</td>\n",
       "      <td>0.000000</td>\n",
       "      <td>0.000000</td>\n",
       "      <td>0.000000</td>\n",
       "      <td>0.000000</td>\n",
       "      <td>17.647059</td>\n",
       "      <td>0.000000</td>\n",
       "      <td>0.000000</td>\n",
       "      <td>0.000000</td>\n",
       "      <td>Underweight</td>\n",
       "      <td>15</td>\n",
       "    </tr>\n",
       "    <tr>\n",
       "      <th>1</th>\n",
       "      <td>30</td>\n",
       "      <td>Female</td>\n",
       "      <td>White</td>\n",
       "      <td>163</td>\n",
       "      <td>61</td>\n",
       "      <td>2</td>\n",
       "      <td>1</td>\n",
       "      <td>1</td>\n",
       "      <td>1</td>\n",
       "      <td>50</td>\n",
       "      <td>...</td>\n",
       "      <td>12.000000</td>\n",
       "      <td>0.901961</td>\n",
       "      <td>0.675472</td>\n",
       "      <td>7.310988</td>\n",
       "      <td>22.959088</td>\n",
       "      <td>0.516095</td>\n",
       "      <td>2.470092</td>\n",
       "      <td>2.117578</td>\n",
       "      <td>Normal</td>\n",
       "      <td>6</td>\n",
       "    </tr>\n",
       "    <tr>\n",
       "      <th>2</th>\n",
       "      <td>36</td>\n",
       "      <td>Female</td>\n",
       "      <td>White</td>\n",
       "      <td>163</td>\n",
       "      <td>68</td>\n",
       "      <td>1</td>\n",
       "      <td>1</td>\n",
       "      <td>1</td>\n",
       "      <td>1</td>\n",
       "      <td>0</td>\n",
       "      <td>...</td>\n",
       "      <td>0.000000</td>\n",
       "      <td>0.000000</td>\n",
       "      <td>0.000000</td>\n",
       "      <td>0.000000</td>\n",
       "      <td>25.593737</td>\n",
       "      <td>0.000000</td>\n",
       "      <td>0.000000</td>\n",
       "      <td>0.000000</td>\n",
       "      <td>Overweight</td>\n",
       "      <td>7</td>\n",
       "    </tr>\n",
       "    <tr>\n",
       "      <th>3</th>\n",
       "      <td>31</td>\n",
       "      <td>Male</td>\n",
       "      <td>White</td>\n",
       "      <td>188</td>\n",
       "      <td>147</td>\n",
       "      <td>1</td>\n",
       "      <td>1</td>\n",
       "      <td>1</td>\n",
       "      <td>5</td>\n",
       "      <td>30</td>\n",
       "      <td>...</td>\n",
       "      <td>5.870968</td>\n",
       "      <td>1.451613</td>\n",
       "      <td>0.494624</td>\n",
       "      <td>4.215367</td>\n",
       "      <td>41.591218</td>\n",
       "      <td>0.401874</td>\n",
       "      <td>2.253644</td>\n",
       "      <td>1.651609</td>\n",
       "      <td>Obese</td>\n",
       "      <td>12</td>\n",
       "    </tr>\n",
       "    <tr>\n",
       "      <th>4</th>\n",
       "      <td>30</td>\n",
       "      <td>Female</td>\n",
       "      <td>White</td>\n",
       "      <td>165</td>\n",
       "      <td>72</td>\n",
       "      <td>4</td>\n",
       "      <td>2</td>\n",
       "      <td>1</td>\n",
       "      <td>1</td>\n",
       "      <td>647</td>\n",
       "      <td>...</td>\n",
       "      <td>6.774691</td>\n",
       "      <td>0.567901</td>\n",
       "      <td>0.837607</td>\n",
       "      <td>3.222571</td>\n",
       "      <td>26.446281</td>\n",
       "      <td>0.608464</td>\n",
       "      <td>1.578433</td>\n",
       "      <td>1.440444</td>\n",
       "      <td>Overweight</td>\n",
       "      <td>11</td>\n",
       "    </tr>\n",
       "  </tbody>\n",
       "</table>\n",
       "<p>5 rows × 24 columns</p>\n",
       "</div>"
      ],
      "text/plain": [
       "   age  gender   race  height  weight  drinks  tobacco  illegal_drugs  \\\n",
       "0   31    Male  White     170      51       2        5              1   \n",
       "1   30  Female  White     163      61       2        1              1   \n",
       "2   36  Female  White     163      68       1        1              1   \n",
       "3   31    Male  White     188     147       1        1              1   \n",
       "4   30  Female  White     165      72       4        2              1   \n",
       "\n",
       "   prescription_drugs  media      ...       mean_likes  mean_comments  \\\n",
       "0                   5      0      ...         0.000000       0.000000   \n",
       "1                   1     50      ...        12.000000       0.901961   \n",
       "2                   1      0      ...         0.000000       0.000000   \n",
       "3                   5     30      ...         5.870968       1.451613   \n",
       "4                   1    647      ...         6.774691       0.567901   \n",
       "\n",
       "   follow_ratio  magnetism        bmi  log_follow_ratio  log_mean_activity  \\\n",
       "0      0.000000   0.000000  17.647059          0.000000           0.000000   \n",
       "1      0.675472   7.310988  22.959088          0.516095           2.470092   \n",
       "2      0.000000   0.000000  25.593737          0.000000           0.000000   \n",
       "3      0.494624   4.215367  41.591218          0.401874           2.253644   \n",
       "4      0.837607   3.222571  26.446281          0.608464           1.578433   \n",
       "\n",
       "   log_magnetism      bmi_cat  health_score  \n",
       "0       0.000000  Underweight            15  \n",
       "1       2.117578       Normal             6  \n",
       "2       0.000000   Overweight             7  \n",
       "3       1.651609        Obese            12  \n",
       "4       1.440444   Overweight            11  \n",
       "\n",
       "[5 rows x 24 columns]"
      ]
     },
     "execution_count": 60,
     "metadata": {},
     "output_type": "execute_result"
    }
   ],
   "source": [
    "arradata.reset_index().ix[:,1:].head() # Not showing index which now contains user IDs"
   ]
  },
  {
   "cell_type": "markdown",
   "metadata": {},
   "source": [
    "### 2.3 Basic exploratory analysis"
   ]
  },
  {
   "cell_type": "markdown",
   "metadata": {},
   "source": [
    "Basic tabular summary:"
   ]
  },
  {
   "cell_type": "code",
   "execution_count": 61,
   "metadata": {
    "collapsed": true
   },
   "outputs": [],
   "source": [
    "interesting_rows = ['mean','std','min','max']\n",
    "raw_features = list(arradata.describe().columns)[:(no_raw_features - 2)]\n",
    "derivative_features = list(arradata.describe().columns)[(no_raw_features - 2):]"
   ]
  },
  {
   "cell_type": "code",
   "execution_count": 62,
   "metadata": {
    "collapsed": false,
    "scrolled": true
   },
   "outputs": [
    {
     "data": {
      "text/html": [
       "<div>\n",
       "<table border=\"1\" class=\"dataframe\">\n",
       "  <thead>\n",
       "    <tr style=\"text-align: right;\">\n",
       "      <th></th>\n",
       "      <th>age</th>\n",
       "      <th>height</th>\n",
       "      <th>weight</th>\n",
       "      <th>drinks</th>\n",
       "      <th>tobacco</th>\n",
       "      <th>illegal_drugs</th>\n",
       "      <th>prescription_drugs</th>\n",
       "      <th>media</th>\n",
       "      <th>likes</th>\n",
       "      <th>comments</th>\n",
       "      <th>follows</th>\n",
       "      <th>followed_by</th>\n",
       "    </tr>\n",
       "  </thead>\n",
       "  <tbody>\n",
       "    <tr>\n",
       "      <th>mean</th>\n",
       "      <td>32.227273</td>\n",
       "      <td>172.527273</td>\n",
       "      <td>82.509091</td>\n",
       "      <td>2.181818</td>\n",
       "      <td>2.090909</td>\n",
       "      <td>1.554545</td>\n",
       "      <td>1.290909</td>\n",
       "      <td>142.036364</td>\n",
       "      <td>4025.554545</td>\n",
       "      <td>273.290909</td>\n",
       "      <td>263.690909</td>\n",
       "      <td>307.190909</td>\n",
       "    </tr>\n",
       "    <tr>\n",
       "      <th>std</th>\n",
       "      <td>7.863117</td>\n",
       "      <td>9.545362</td>\n",
       "      <td>24.341887</td>\n",
       "      <td>1.150842</td>\n",
       "      <td>1.565367</td>\n",
       "      <td>1.018961</td>\n",
       "      <td>0.746189</td>\n",
       "      <td>237.244191</td>\n",
       "      <td>14070.956796</td>\n",
       "      <td>848.721244</td>\n",
       "      <td>461.503143</td>\n",
       "      <td>877.953558</td>\n",
       "    </tr>\n",
       "    <tr>\n",
       "      <th>min</th>\n",
       "      <td>19.000000</td>\n",
       "      <td>152.000000</td>\n",
       "      <td>36.000000</td>\n",
       "      <td>1.000000</td>\n",
       "      <td>1.000000</td>\n",
       "      <td>1.000000</td>\n",
       "      <td>1.000000</td>\n",
       "      <td>0.000000</td>\n",
       "      <td>0.000000</td>\n",
       "      <td>0.000000</td>\n",
       "      <td>0.000000</td>\n",
       "      <td>0.000000</td>\n",
       "    </tr>\n",
       "    <tr>\n",
       "      <th>max</th>\n",
       "      <td>61.000000</td>\n",
       "      <td>193.000000</td>\n",
       "      <td>157.000000</td>\n",
       "      <td>5.000000</td>\n",
       "      <td>5.000000</td>\n",
       "      <td>5.000000</td>\n",
       "      <td>5.000000</td>\n",
       "      <td>1041.000000</td>\n",
       "      <td>114460.000000</td>\n",
       "      <td>6442.000000</td>\n",
       "      <td>3234.000000</td>\n",
       "      <td>5638.000000</td>\n",
       "    </tr>\n",
       "  </tbody>\n",
       "</table>\n",
       "</div>"
      ],
      "text/plain": [
       "            age      height      weight    drinks   tobacco  illegal_drugs  \\\n",
       "mean  32.227273  172.527273   82.509091  2.181818  2.090909       1.554545   \n",
       "std    7.863117    9.545362   24.341887  1.150842  1.565367       1.018961   \n",
       "min   19.000000  152.000000   36.000000  1.000000  1.000000       1.000000   \n",
       "max   61.000000  193.000000  157.000000  5.000000  5.000000       5.000000   \n",
       "\n",
       "      prescription_drugs        media          likes     comments  \\\n",
       "mean            1.290909   142.036364    4025.554545   273.290909   \n",
       "std             0.746189   237.244191   14070.956796   848.721244   \n",
       "min             1.000000     0.000000       0.000000     0.000000   \n",
       "max             5.000000  1041.000000  114460.000000  6442.000000   \n",
       "\n",
       "          follows  followed_by  \n",
       "mean   263.690909   307.190909  \n",
       "std    461.503143   877.953558  \n",
       "min      0.000000     0.000000  \n",
       "max   3234.000000  5638.000000  "
      ]
     },
     "execution_count": 62,
     "metadata": {},
     "output_type": "execute_result"
    }
   ],
   "source": [
    "arradata.describe().loc[interesting_rows, raw_features] # Original features"
   ]
  },
  {
   "cell_type": "code",
   "execution_count": 63,
   "metadata": {
    "collapsed": false,
    "scrolled": true
   },
   "outputs": [
    {
     "data": {
      "text/html": [
       "<div>\n",
       "<table border=\"1\" class=\"dataframe\">\n",
       "  <thead>\n",
       "    <tr style=\"text-align: right;\">\n",
       "      <th></th>\n",
       "      <th>mean_likes</th>\n",
       "      <th>mean_comments</th>\n",
       "      <th>follow_ratio</th>\n",
       "      <th>magnetism</th>\n",
       "      <th>bmi</th>\n",
       "      <th>log_follow_ratio</th>\n",
       "      <th>log_mean_activity</th>\n",
       "      <th>log_magnetism</th>\n",
       "      <th>health_score</th>\n",
       "    </tr>\n",
       "  </thead>\n",
       "  <tbody>\n",
       "    <tr>\n",
       "      <th>mean</th>\n",
       "      <td>12.310917</td>\n",
       "      <td>0.833656</td>\n",
       "      <td>1.985858</td>\n",
       "      <td>164.431605</td>\n",
       "      <td>27.574879</td>\n",
       "      <td>0.614305</td>\n",
       "      <td>1.542687</td>\n",
       "      <td>1.509636</td>\n",
       "      <td>9.572727</td>\n",
       "    </tr>\n",
       "    <tr>\n",
       "      <th>std</th>\n",
       "      <td>24.277361</td>\n",
       "      <td>1.615982</td>\n",
       "      <td>7.527661</td>\n",
       "      <td>1001.447341</td>\n",
       "      <td>7.537530</td>\n",
       "      <td>0.657769</td>\n",
       "      <td>1.691414</td>\n",
       "      <td>1.934910</td>\n",
       "      <td>3.143244</td>\n",
       "    </tr>\n",
       "    <tr>\n",
       "      <th>min</th>\n",
       "      <td>0.000000</td>\n",
       "      <td>0.000000</td>\n",
       "      <td>0.000000</td>\n",
       "      <td>0.000000</td>\n",
       "      <td>15.581717</td>\n",
       "      <td>0.000000</td>\n",
       "      <td>0.000000</td>\n",
       "      <td>0.000000</td>\n",
       "      <td>5.000000</td>\n",
       "    </tr>\n",
       "    <tr>\n",
       "      <th>max</th>\n",
       "      <td>184.772834</td>\n",
       "      <td>12.620588</td>\n",
       "      <td>63.818182</td>\n",
       "      <td>9474.968625</td>\n",
       "      <td>57.667585</td>\n",
       "      <td>4.171586</td>\n",
       "      <td>7.362442</td>\n",
       "      <td>9.156514</td>\n",
       "      <td>18.000000</td>\n",
       "    </tr>\n",
       "  </tbody>\n",
       "</table>\n",
       "</div>"
      ],
      "text/plain": [
       "      mean_likes  mean_comments  follow_ratio    magnetism        bmi  \\\n",
       "mean   12.310917       0.833656      1.985858   164.431605  27.574879   \n",
       "std    24.277361       1.615982      7.527661  1001.447341   7.537530   \n",
       "min     0.000000       0.000000      0.000000     0.000000  15.581717   \n",
       "max   184.772834      12.620588     63.818182  9474.968625  57.667585   \n",
       "\n",
       "      log_follow_ratio  log_mean_activity  log_magnetism  health_score  \n",
       "mean          0.614305           1.542687       1.509636      9.572727  \n",
       "std           0.657769           1.691414       1.934910      3.143244  \n",
       "min           0.000000           0.000000       0.000000      5.000000  \n",
       "max           4.171586           7.362442       9.156514     18.000000  "
      ]
     },
     "execution_count": 63,
     "metadata": {},
     "output_type": "execute_result"
    }
   ],
   "source": [
    "arradata.describe().loc[interesting_rows, derivative_features] # Generated features"
   ]
  },
  {
   "cell_type": "code",
   "execution_count": 65,
   "metadata": {
    "collapsed": false
   },
   "outputs": [
    {
     "data": {
      "text/plain": [
       "(110, 24)"
      ]
     },
     "execution_count": 65,
     "metadata": {},
     "output_type": "execute_result"
    }
   ],
   "source": [
    "arradata.shape"
   ]
  },
  {
   "cell_type": "markdown",
   "metadata": {},
   "source": [
    "Boxplot of survey responses:"
   ]
  },
  {
   "cell_type": "code",
   "execution_count": 67,
   "metadata": {
    "collapsed": false
   },
   "outputs": [
    {
     "data": {
      "image/png": "[encoded data removed]",
      "text/plain": [
       "<matplotlib.figure.Figure at 0x116324950>"
      ]
     },
     "metadata": {},
     "output_type": "display_data"
    }
   ],
   "source": [
    "fig, ax = plt.subplots(figsize = (10, 5))\n",
    "arradata[['drinks', 'tobacco', 'illegal_drugs', 'prescription_drugs']].plot.box(showmeans = True, ax = ax);"
   ]
  },
  {
   "cell_type": "markdown",
   "metadata": {},
   "source": [
    "More detailed look into survey responses:"
   ]
  },
  {
   "cell_type": "code",
   "execution_count": 68,
   "metadata": {
    "collapsed": false,
    "scrolled": true
   },
   "outputs": [],
   "source": [
    "nRec = arradata.shape[0]\n",
    "subst_count = pd.DataFrame(arradata['drinks'].value_counts()/ nRec)\n",
    "subst_count['tobacco'] = arradata['tobacco'].value_counts()/ nRec\n",
    "subst_count['illegal_drugs'] = arradata['illegal_drugs'].value_counts()/ nRec\n",
    "subst_count['prescription_drugs'] = arradata['prescription_drugs'].value_counts()/ nRec"
   ]
  },
  {
   "cell_type": "code",
   "execution_count": 71,
   "metadata": {
    "collapsed": false,
    "scrolled": false
   },
   "outputs": [
    {
     "data": {
      "image/png": "[encoded data removed]",
      "text/plain": [
       "<matplotlib.figure.Figure at 0x1196e5910>"
      ]
     },
     "metadata": {},
     "output_type": "display_data"
    }
   ],
   "source": [
    "fig, ax = plt.subplots(figsize = (12, 6))\n",
    "subst_count.plot.bar(ax = ax)\n",
    "ax.set_xticklabels(['Never', 'Once or Twice', 'Monthly', 'Weekly', 'Daily or Almost Daily'],\n",
    "                   rotation = 0, fontsize = 'small')\n",
    "ax.set_ylim([0,1])\n",
    "ax.set_ylabel('Percentage', fontsize = 'small');"
   ]
  },
  {
   "cell_type": "markdown",
   "metadata": {},
   "source": [
    "I want nice, `ggplot`-looking plots, in which I plot one column vs. another, color by third (one could use `ggplot` for Python, but I wanna practice matplotlib):"
   ]
  },
  {
   "cell_type": "code",
   "execution_count": 74,
   "metadata": {
    "collapsed": false
   },
   "outputs": [],
   "source": [
    "def my_plot(df, x, y, label, width = 10, height = 6, marker = 'o', \n",
    "            ms = 7, fontsize = 12, linestyle = '', xlim = (0,0), ylim = (0,0), **args):\n",
    "    groups = df.groupby(label)\n",
    "    fig, ax = plt.subplots(figsize = (width, height))\n",
    "    for name, group in groups:\n",
    "        ax.plot(group[x], group[y], marker = marker, linestyle = linestyle, \n",
    "                ms = ms, label = name, **args)\n",
    "    ax.set_xlabel(x, fontsize = fontsize)\n",
    "    ax.set_ylabel(y, fontsize = fontsize)\n",
    "    legend = ax.legend(frameon = False, bbox_to_anchor = (1.01, 0.99), loc=2, borderaxespad=0.)\n",
    "    for label in legend.get_texts():\n",
    "        label.set_fontsize(fontsize)\n",
    "    if xlim != (0,0): ax.set_xlim([xlim[0], xlim[1]])\n",
    "    if ylim != (0,0): ax.set_ylim([ylim[0], ylim[1]])\n",
    "    plt.close()\n",
    "    return fig"
   ]
  },
  {
   "cell_type": "markdown",
   "metadata": {},
   "source": [
    "For example, let's see if there's any correlation between `follow_ratio` and `mean_activity`:"
   ]
  },
  {
   "cell_type": "code",
   "execution_count": 75,
   "metadata": {
    "collapsed": false
   },
   "outputs": [
    {
     "data": {
      "image/png": "[encoded data removed]",
      "text/plain": [
       "<matplotlib.figure.Figure at 0x116375f90>"
      ]
     },
     "execution_count": 75,
     "metadata": {},
     "output_type": "execute_result"
    }
   ],
   "source": [
    "my_plot(arradata, x = 'log_follow_ratio', y = 'log_mean_activity', label = 'bmi_cat',\n",
    "        xlim = (-0.1, 4.5), ylim = (-0.3, 8))"
   ]
  },
  {
   "cell_type": "markdown",
   "metadata": {},
   "source": [
    "How predictive is magnetism (alone) of the health score?"
   ]
  },
  {
   "cell_type": "code",
   "execution_count": 76,
   "metadata": {
    "collapsed": false,
    "scrolled": false
   },
   "outputs": [
    {
     "data": {
      "image/png": "[encoded data removed]",
      "text/plain": [
       "<matplotlib.figure.Figure at 0x119fb1ad0>"
      ]
     },
     "execution_count": 76,
     "metadata": {},
     "output_type": "execute_result"
    }
   ],
   "source": [
    "my_plot(arradata, x = 'log_magnetism', y = 'health_score', label = 'gender', \n",
    "        xlim = (-0.1, 10), ylim = (4, 18.5))"
   ]
  },
  {
   "cell_type": "markdown",
   "metadata": {
    "nbpresent": {
     "id": "ea6cc211-bf27-4b76-a9f6-b1ff24cdf7cb"
    }
   },
   "source": [
    "## 3. Get tag networks and related SNA metrics"
   ]
  },
  {
   "cell_type": "markdown",
   "metadata": {
    "nbpresent": {
     "id": "e5fc51f2-5212-4564-b6de-c5ea1a17bf38"
    }
   },
   "source": [
    "### 3.1 Create a tag list"
   ]
  },
  {
   "cell_type": "markdown",
   "metadata": {
    "nbpresent": {
     "id": "9c41bed7-5873-45a7-91e1-c4272247c423"
    }
   },
   "source": [
    "Concentrate on one particular user (later this can be embedded in a loop)"
   ]
  },
  {
   "cell_type": "code",
   "execution_count": 77,
   "metadata": {
    "collapsed": true,
    "nbpresent": {
     "id": "f9c8e363-1cd7-41fc-980d-8cfb5c784366"
    }
   },
   "outputs": [],
   "source": [
    "select_user_id = <redacted>"
   ]
  },
  {
   "cell_type": "markdown",
   "metadata": {
    "nbpresent": {
     "id": "35641060-cc15-47d4-b035-709bc1fd0f65"
    }
   },
   "source": [
    "Find its username:"
   ]
  },
  {
   "cell_type": "code",
   "execution_count": 90,
   "metadata": {
    "collapsed": false,
    "nbpresent": {
     "id": "f5ef6799-9934-4061-89fa-9f0fd1db0137"
    }
   },
   "outputs": [],
   "source": [
    "sql_query = (\"\"\" SELECT username FROM main_user \n",
    "            WHERE \"userId\" = '%s';\"\"\" % select_user_id)\n",
    "username = pd.read_sql(sql_query, conn)['username'][0]\n",
    "#username"
   ]
  },
  {
   "cell_type": "markdown",
   "metadata": {
    "nbpresent": {
     "id": "41010f9d-d167-492c-9e78-3347b29d3e08"
    }
   },
   "source": [
    "Extract the list of all the ppl tagged in its photos:"
   ]
  },
  {
   "cell_type": "code",
   "execution_count": 91,
   "metadata": {
    "collapsed": false,
    "nbpresent": {
     "id": "43ac7850-9a46-4c92-9c1c-cd49c0d43b2f"
    },
    "scrolled": true
   },
   "outputs": [],
   "source": [
    "sql_query = (\"\"\"\n",
    "            SELECT username, photo_id, main_usersinphoto.\"userId\"\n",
    "            FROM main_usersinphoto\n",
    "            JOIN main_instagrammedia ON main_usersinphoto.photo_id = main_instagrammedia.id\n",
    "            WHERE main_instagrammedia.\"userId\" = '%s';\"\"\" % select_user_id)\n",
    "tag_data = pd.read_sql(sql_query, conn)\n",
    "#tag_data.head()"
   ]
  },
  {
   "cell_type": "markdown",
   "metadata": {
    "nbpresent": {
     "id": "75631ace-bca7-4064-ab02-20f601b7d39f"
    }
   },
   "source": [
    "Remove the user (for now) from the tag data:"
   ]
  },
  {
   "cell_type": "code",
   "execution_count": 92,
   "metadata": {
    "collapsed": false,
    "nbpresent": {
     "id": "2ba3b8d7-f341-4b21-9df1-0f9810a58ea4"
    }
   },
   "outputs": [],
   "source": [
    "tag_data = tag_data[tag_data['username'] != username]"
   ]
  },
  {
   "cell_type": "markdown",
   "metadata": {
    "nbpresent": {
     "id": "86e68892-95dc-4d15-a043-a6a3b7b0e96a"
    }
   },
   "source": [
    "Extract the list of all the people in its network:"
   ]
  },
  {
   "cell_type": "code",
   "execution_count": 81,
   "metadata": {
    "collapsed": false,
    "nbpresent": {
     "id": "b613a758-a43f-480b-93b8-ca863d057160"
    }
   },
   "outputs": [],
   "source": [
    "taggers = list(tag_data['username'].unique())\n",
    "nNodes = len(taggers) + 1"
   ]
  },
  {
   "cell_type": "markdown",
   "metadata": {},
   "source": [
    "### 3.2 Generate the corresponding graph"
   ]
  },
  {
   "cell_type": "markdown",
   "metadata": {
    "nbpresent": {
     "id": "ce69c9f5-f3ef-4bda-b9b0-4579f292a7dd"
    }
   },
   "source": [
    "Based on this, we initialize nNodes x nNodes weight matrix:"
   ]
  },
  {
   "cell_type": "code",
   "execution_count": 93,
   "metadata": {
    "collapsed": true,
    "nbpresent": {
     "id": "6d3e5884-d3ac-4889-83ae-1fee42ccaa9a"
    }
   },
   "outputs": [],
   "source": [
    "tag_matrix = np.array([0] * nNodes * nNodes).reshape((nNodes, nNodes))"
   ]
  },
  {
   "cell_type": "markdown",
   "metadata": {
    "nbpresent": {
     "id": "38876e4b-10ee-406e-a2e1-0f55279ae1c0"
    }
   },
   "source": [
    "For each of the users, add its position in the weight matrix to the tag_data DF:"
   ]
  },
  {
   "cell_type": "code",
   "execution_count": 94,
   "metadata": {
    "collapsed": false,
    "nbpresent": {
     "id": "bccadd84-6c95-4b75-b42c-1993fcc67e64"
    }
   },
   "outputs": [],
   "source": [
    "tag_index = lambda user: taggers.index(user) + 1\n",
    "tag_data['tag_index'] = tag_data[['username']].applymap(tag_index)['username']\n",
    "# tag_data.head()"
   ]
  },
  {
   "cell_type": "markdown",
   "metadata": {
    "nbpresent": {
     "id": "4deedbd4-5a42-42f8-a6ae-7cf7d936240b"
    }
   },
   "source": [
    "List of all the distinct photos:"
   ]
  },
  {
   "cell_type": "code",
   "execution_count": 95,
   "metadata": {
    "collapsed": false,
    "nbpresent": {
     "id": "cc5989ca-a998-4e63-925e-855187ca6298"
    }
   },
   "outputs": [],
   "source": [
    "photo_list = list(tag_data['photo_id'].unique())"
   ]
  },
  {
   "cell_type": "markdown",
   "metadata": {
    "nbpresent": {
     "id": "d8880b6d-4c38-4cc7-a725-12582cbc57d8"
    }
   },
   "source": [
    "For each photo, list of all the ppl (by tag_index) that are in it (adding a zero, for the central node):"
   ]
  },
  {
   "cell_type": "code",
   "execution_count": 96,
   "metadata": {
    "collapsed": false,
    "nbpresent": {
     "id": "354bd091-bb16-4595-b351-453f4f7c7b14"
    }
   },
   "outputs": [
    {
     "data": {
      "text/plain": [
       "[[0, 1, 2, 3], [0, 2], [0, 4], [0, 5, 6, 2, 7, 8], [0, 9, 10]]"
      ]
     },
     "execution_count": 96,
     "metadata": {},
     "output_type": "execute_result"
    }
   ],
   "source": [
    "tag_master = [[0] + list(tag_data[tag_data['photo_id'] == p]['tag_index']) for p in photo_list]\n",
    "tag_master[0: min(5, len(tag_master) / 2)]"
   ]
  },
  {
   "cell_type": "markdown",
   "metadata": {
    "nbpresent": {
     "id": "b3c50ce0-02bd-4599-9f61-715e2d1db843"
    }
   },
   "source": [
    "Convert this info into the weight matrix:"
   ]
  },
  {
   "cell_type": "code",
   "execution_count": 97,
   "metadata": {
    "collapsed": true,
    "nbpresent": {
     "id": "63cbfeab-bbbf-459f-889f-2db5a9596237"
    }
   },
   "outputs": [],
   "source": [
    "for t in tag_master:\n",
    "    for i in range(len(t)):\n",
    "        for j in range(i + 1, len(t)):\n",
    "            tag_matrix[t[i], t[j]] = tag_matrix[t[i], t[j]] + 1"
   ]
  },
  {
   "cell_type": "markdown",
   "metadata": {
    "nbpresent": {
     "id": "d0ee56fe-9bf7-4cac-9671-dde325825a48"
    }
   },
   "source": [
    "Use it to make a networkX graph:"
   ]
  },
  {
   "cell_type": "code",
   "execution_count": 98,
   "metadata": {
    "collapsed": true,
    "nbpresent": {
     "id": "bbf9ca8a-1460-48f4-9516-798d25ca986e"
    }
   },
   "outputs": [],
   "source": [
    "G = nx.from_numpy_matrix(np.matrix(tag_matrix, dtype = [('weight', int)]))"
   ]
  },
  {
   "cell_type": "markdown",
   "metadata": {
    "nbpresent": {
     "id": "30ee096a-0b0c-41b2-bd1f-ab7786ce339d"
    }
   },
   "source": [
    "Plot"
   ]
  },
  {
   "cell_type": "code",
   "execution_count": 89,
   "metadata": {
    "collapsed": false,
    "nbpresent": {
     "id": "1d5eab77-16d4-4a85-aee0-19d30f5cc5f2"
    }
   },
   "outputs": [
    {
     "data": {
      "image/png": "[encoded data removed]",
      "text/plain": [
       "<matplotlib.figure.Figure at 0x11a096750>"
      ]
     },
     "metadata": {},
     "output_type": "display_data"
    }
   ],
   "source": [
    "fac = 15. / float(np.amax(tag_matrix)) # So the edge widths are nicely scaled\n",
    "edgeWidth = [fac * d['weight'] for (u, v, d) in G.edges(data = True)]\n",
    "plt.rc('figure', figsize=(8, 8))\n",
    "plt.axis('off')\n",
    "#plt.title('Test - Network for Instagram User: ' + username, fontdict = {\"fontsize\": 20})\n",
    "pos = nx.spring_layout(G)\n",
    "nx.draw_networkx_nodes(G, pos, node_size=1000, alpha = 0.65, node_color = '#0097db')\n",
    "nx.draw_networkx_labels(G, pos, font_size = 15, font_family = 'sans-serif')\n",
    "nx.draw_networkx_edges(G, pos, width = edgeWidth, alpha = 0.5);"
   ]
  },
  {
   "cell_type": "markdown",
   "metadata": {},
   "source": [
    "### 3.3 Generate SNA metrics for all users"
   ]
  },
  {
   "cell_type": "markdown",
   "metadata": {},
   "source": [
    "Here we employ methods from the previous sections to generate weight matrices in a loop for all users. Start with getting all the users:"
   ]
  },
  {
   "cell_type": "code",
   "execution_count": 102,
   "metadata": {
    "collapsed": false
   },
   "outputs": [],
   "source": [
    "sql_query = (\"\"\"\n",
    "            SELECT main_instagrammedia.\"userId\" user_id, photo_id, main_usersinphoto.\"userId\" user_tagged\n",
    "            FROM main_usersinphoto\n",
    "            JOIN main_instagrammedia ON main_usersinphoto.photo_id = main_instagrammedia.id\n",
    "            \"\"\")\n",
    "all_tag_data = pd.read_sql(sql_query, conn)\n",
    "#all_tag_data.head()"
   ]
  },
  {
   "cell_type": "markdown",
   "metadata": {},
   "source": [
    "How many distinct users do we have:"
   ]
  },
  {
   "cell_type": "code",
   "execution_count": 103,
   "metadata": {
    "collapsed": false
   },
   "outputs": [
    {
     "data": {
      "text/plain": [
       "56"
      ]
     },
     "execution_count": 103,
     "metadata": {},
     "output_type": "execute_result"
    }
   ],
   "source": [
    "users = list(all_tag_data['user_id'].unique())\n",
    "len(users)"
   ]
  },
  {
   "cell_type": "markdown",
   "metadata": {},
   "source": [
    "This can take a while so display a nice progress bar:"
   ]
  },
  {
   "cell_type": "code",
   "execution_count": 104,
   "metadata": {
    "collapsed": false
   },
   "outputs": [],
   "source": [
    "from ipywidgets import FloatProgress\n",
    "from IPython.display import display\n",
    "prog_bar = FloatProgress(min = 0, max = len(users))\n",
    "display(prog_bar)"
   ]
  },
  {
   "cell_type": "markdown",
   "metadata": {},
   "source": [
    "Loop over them and for each user generate a weighted tag network (note I need to introduce actual weights, i.e. the inverse of tag_matrix) and calculate some SNA metrics (working on adding more...)"
   ]
  },
  {
   "cell_type": "code",
   "execution_count": 105,
   "metadata": {
    "collapsed": false
   },
   "outputs": [
    {
     "data": {
      "text/plain": [
       "214.1476650238037"
      ]
     },
     "execution_count": 105,
     "metadata": {},
     "output_type": "execute_result"
    }
   ],
   "source": [
    "import time\n",
    "time_start = time.time()\n",
    "largest_clique = pd.Series([])\n",
    "density = pd.Series([])\n",
    "edge_count = pd.Series([])\n",
    "average_clustering = pd.Series([])\n",
    "assortativity = pd.Series([])\n",
    "clique_count = pd.Series([])\n",
    "transitivity = pd.Series([])\n",
    "connected = pd.Series([])\n",
    "connected_components = pd.Series([])\n",
    "biconnected = pd.Series([])\n",
    "node_connectivity = pd.Series([])\n",
    "edge_connectivity = pd.Series([])\n",
    "average_connectivity = pd.Series([])\n",
    "radius = pd.Series([])\n",
    "diameter = pd.Series([])\n",
    "average_shortest_path = pd.Series([])\n",
    "isolates = pd.Series([])\n",
    "\n",
    "for u in users:\n",
    "    tag_data = all_tag_data[all_tag_data['user_id'] == u][['photo_id', 'user_tagged']]\n",
    "    tag_data = tag_data[tag_data['user_tagged'] != u]\n",
    "    taggers = list(tag_data['user_tagged'].unique())\n",
    "    nNodes = len(taggers) + 1\n",
    "    tag_matrix = np.array([0] * nNodes * nNodes).reshape((nNodes, nNodes))\n",
    "    tag_index = lambda user: taggers.index(user) + 1\n",
    "    tag_data['tag_index'] = tag_data[['user_tagged']].applymap(tag_index)['user_tagged']\n",
    "    photo_list = list(tag_data['photo_id'].unique())\n",
    "    tag_master = [[0] + list(tag_data[tag_data['photo_id'] == p]['tag_index']) for p in photo_list]\n",
    "    for t in tag_master:\n",
    "        for i in range(len(t)):\n",
    "            for j in range(i + 1, len(t)):\n",
    "                tag_matrix[t[i], t[j]] = tag_matrix[t[i], t[j]] + 1\n",
    "    G = nx.from_numpy_matrix(np.matrix(tag_matrix, dtype = [('weight', int)]))\n",
    "    \n",
    "    largest_clique = largest_clique.append(pd.Series([nx.graph_clique_number(G)], index = [u]))\n",
    "    density = density.append(pd.Series([nx.density(G)], index = [u]))\n",
    "    edge_count = edge_count.append(pd.Series([nx.number_of_edges(G)], index = [u]))\n",
    "    average_clustering = average_clustering.append(pd.Series([nx.average_clustering(G)], index = [u]))\n",
    "    assortativity = assortativity.append(pd.Series([nx.degree_assortativity_coefficient(G)], index = [u]))\n",
    "    clique_count = clique_count.append(pd.Series([nx.graph_number_of_cliques(G)], index = [u]))\n",
    "    connected = connected.append(pd.Series([nx.is_connected(G)], index = [u]))\n",
    "    connected_components = connected_components.append(pd.Series([nx.number_connected_components(G)], index = [u]))\n",
    "    biconnected = biconnected.append(pd.Series([nx.is_biconnected(G)], index = [u]))\n",
    "    node_connectivity = node_connectivity.append(pd.Series([nx.node_connectivity(G)], index = [u]))\n",
    "    edge_connectivity = edge_connectivity.append(pd.Series([nx.edge_connectivity(G)], index = [u]))\n",
    "    average_connectivity = average_connectivity.append(pd.Series([nx.average_node_connectivity(G)], index = [u]))\n",
    "    radius = radius.append(pd.Series([nx.radius(G)], index = [u]))\n",
    "    diameter = diameter.append(pd.Series([nx.diameter(G)], index = [u]))\n",
    "    average_shortest_path = average_shortest_path.append(pd.Series([nx.average_shortest_path_length(G)], index = [u]))\n",
    "    isolates = isolates.append(pd.Series([len(nx.isolates(G))], index = [u]))\n",
    "    \n",
    "    prog_bar.value += 1\n",
    "time_end = time.time()\n",
    "time_end - time_start"
   ]
  },
  {
   "cell_type": "markdown",
   "metadata": {},
   "source": [
    "Add it to the main dataframe, and get rid of NA's;"
   ]
  },
  {
   "cell_type": "code",
   "execution_count": 116,
   "metadata": {
    "collapsed": false,
    "scrolled": false
   },
   "outputs": [
    {
     "data": {
      "text/html": [
       "<div>\n",
       "<table border=\"1\" class=\"dataframe\">\n",
       "  <thead>\n",
       "    <tr style=\"text-align: right;\">\n",
       "      <th></th>\n",
       "      <th>age</th>\n",
       "      <th>gender</th>\n",
       "      <th>race</th>\n",
       "      <th>height</th>\n",
       "      <th>weight</th>\n",
       "      <th>drinks</th>\n",
       "      <th>tobacco</th>\n",
       "      <th>illegal_drugs</th>\n",
       "      <th>prescription_drugs</th>\n",
       "      <th>media</th>\n",
       "      <th>...</th>\n",
       "      <th>connected</th>\n",
       "      <th>connected_components</th>\n",
       "      <th>biconnected</th>\n",
       "      <th>node_connectivity</th>\n",
       "      <th>edge_connectivity</th>\n",
       "      <th>average_connectivity</th>\n",
       "      <th>radius</th>\n",
       "      <th>diameter</th>\n",
       "      <th>average_shortest_path</th>\n",
       "      <th>isolates</th>\n",
       "    </tr>\n",
       "  </thead>\n",
       "  <tbody>\n",
       "    <tr>\n",
       "      <th>0</th>\n",
       "      <td>31</td>\n",
       "      <td>Male</td>\n",
       "      <td>White</td>\n",
       "      <td>170</td>\n",
       "      <td>51</td>\n",
       "      <td>2</td>\n",
       "      <td>5</td>\n",
       "      <td>1</td>\n",
       "      <td>5</td>\n",
       "      <td>0</td>\n",
       "      <td>...</td>\n",
       "      <td>0</td>\n",
       "      <td>0</td>\n",
       "      <td>0</td>\n",
       "      <td>0</td>\n",
       "      <td>0</td>\n",
       "      <td>0</td>\n",
       "      <td>0</td>\n",
       "      <td>0</td>\n",
       "      <td>0</td>\n",
       "      <td>0</td>\n",
       "    </tr>\n",
       "    <tr>\n",
       "      <th>1</th>\n",
       "      <td>30</td>\n",
       "      <td>Female</td>\n",
       "      <td>White</td>\n",
       "      <td>163</td>\n",
       "      <td>61</td>\n",
       "      <td>2</td>\n",
       "      <td>1</td>\n",
       "      <td>1</td>\n",
       "      <td>1</td>\n",
       "      <td>50</td>\n",
       "      <td>...</td>\n",
       "      <td>1</td>\n",
       "      <td>1</td>\n",
       "      <td>1</td>\n",
       "      <td>1</td>\n",
       "      <td>1</td>\n",
       "      <td>1</td>\n",
       "      <td>1</td>\n",
       "      <td>1</td>\n",
       "      <td>1</td>\n",
       "      <td>0</td>\n",
       "    </tr>\n",
       "    <tr>\n",
       "      <th>2</th>\n",
       "      <td>36</td>\n",
       "      <td>Female</td>\n",
       "      <td>White</td>\n",
       "      <td>163</td>\n",
       "      <td>68</td>\n",
       "      <td>1</td>\n",
       "      <td>1</td>\n",
       "      <td>1</td>\n",
       "      <td>1</td>\n",
       "      <td>0</td>\n",
       "      <td>...</td>\n",
       "      <td>0</td>\n",
       "      <td>0</td>\n",
       "      <td>0</td>\n",
       "      <td>0</td>\n",
       "      <td>0</td>\n",
       "      <td>0</td>\n",
       "      <td>0</td>\n",
       "      <td>0</td>\n",
       "      <td>0</td>\n",
       "      <td>0</td>\n",
       "    </tr>\n",
       "    <tr>\n",
       "      <th>3</th>\n",
       "      <td>31</td>\n",
       "      <td>Male</td>\n",
       "      <td>White</td>\n",
       "      <td>188</td>\n",
       "      <td>147</td>\n",
       "      <td>1</td>\n",
       "      <td>1</td>\n",
       "      <td>1</td>\n",
       "      <td>5</td>\n",
       "      <td>30</td>\n",
       "      <td>...</td>\n",
       "      <td>1</td>\n",
       "      <td>1</td>\n",
       "      <td>0</td>\n",
       "      <td>1</td>\n",
       "      <td>1</td>\n",
       "      <td>1</td>\n",
       "      <td>1</td>\n",
       "      <td>2</td>\n",
       "      <td>1</td>\n",
       "      <td>0</td>\n",
       "    </tr>\n",
       "    <tr>\n",
       "      <th>4</th>\n",
       "      <td>30</td>\n",
       "      <td>Female</td>\n",
       "      <td>White</td>\n",
       "      <td>165</td>\n",
       "      <td>72</td>\n",
       "      <td>4</td>\n",
       "      <td>2</td>\n",
       "      <td>1</td>\n",
       "      <td>1</td>\n",
       "      <td>647</td>\n",
       "      <td>...</td>\n",
       "      <td>1</td>\n",
       "      <td>1</td>\n",
       "      <td>0</td>\n",
       "      <td>1</td>\n",
       "      <td>1</td>\n",
       "      <td>1</td>\n",
       "      <td>1</td>\n",
       "      <td>2</td>\n",
       "      <td>1</td>\n",
       "      <td>0</td>\n",
       "    </tr>\n",
       "  </tbody>\n",
       "</table>\n",
       "<p>5 rows × 41 columns</p>\n",
       "</div>"
      ],
      "text/plain": [
       "   age  gender   race  height  weight  drinks  tobacco  illegal_drugs  \\\n",
       "0   31    Male  White     170      51       2        5              1   \n",
       "1   30  Female  White     163      61       2        1              1   \n",
       "2   36  Female  White     163      68       1        1              1   \n",
       "3   31    Male  White     188     147       1        1              1   \n",
       "4   30  Female  White     165      72       4        2              1   \n",
       "\n",
       "   prescription_drugs  media    ...     connected  connected_components  \\\n",
       "0                   5      0    ...             0                     0   \n",
       "1                   1     50    ...             1                     1   \n",
       "2                   1      0    ...             0                     0   \n",
       "3                   5     30    ...             1                     1   \n",
       "4                   1    647    ...             1                     1   \n",
       "\n",
       "   biconnected  node_connectivity  edge_connectivity  average_connectivity  \\\n",
       "0            0                  0                  0                     0   \n",
       "1            1                  1                  1                     1   \n",
       "2            0                  0                  0                     0   \n",
       "3            0                  1                  1                     1   \n",
       "4            0                  1                  1                     1   \n",
       "\n",
       "   radius  diameter  average_shortest_path  isolates  \n",
       "0       0         0                      0         0  \n",
       "1       1         1                      1         0  \n",
       "2       0         0                      0         0  \n",
       "3       1         2                      1         0  \n",
       "4       1         2                      1         0  \n",
       "\n",
       "[5 rows x 41 columns]"
      ]
     },
     "execution_count": 116,
     "metadata": {},
     "output_type": "execute_result"
    }
   ],
   "source": [
    "arradata['largest_clique'] = largest_clique\n",
    "arradata = arradata.fillna({'largest_clique': 0})\n",
    "arradata['largest_clique'] = arradata['largest_clique'].astype(int)\n",
    "\n",
    "arradata['density'] = density\n",
    "arradata = arradata.fillna({'density': 0})\n",
    "arradata['density'] = arradata['density'].astype(int)\n",
    "\n",
    "arradata['edge_count'] = edge_count\n",
    "arradata = arradata.fillna({'edge_count': 0})\n",
    "arradata['edge_count'] = arradata['edge_count'].astype(int)\n",
    "\n",
    "arradata['average_clustering'] = average_clustering\n",
    "arradata = arradata.fillna({'average_clustering': 0})\n",
    "arradata['average_clustering'] = arradata['average_clustering'].astype(int)\n",
    "\n",
    "arradata['assortativity'] = assortativity\n",
    "arradata = arradata.fillna({'assortativity': 0})\n",
    "arradata['assortativity'] = arradata['assortativity'].astype(int)\n",
    "\n",
    "arradata['clique_count'] = clique_count\n",
    "arradata = arradata.fillna({'clique_count': 0})\n",
    "arradata['clique_count'] = arradata['clique_count'].astype(int)\n",
    "\n",
    "arradata['transitivity'] = transitivity\n",
    "arradata = arradata.fillna({'transitivity': 0})\n",
    "arradata['transitivity'] = arradata['transitivity'].astype(int)\n",
    "\n",
    "arradata['connected'] = connected\n",
    "arradata = arradata.fillna({'connected': 0})\n",
    "arradata['connected'] = arradata['connected'].astype(int)\n",
    "\n",
    "arradata['connected_components'] = connected_components\n",
    "arradata = arradata.fillna({'connected_components': 0})\n",
    "arradata['connected_components'] = arradata['connected_components'].astype(int)\n",
    "\n",
    "arradata['biconnected'] = biconnected\n",
    "arradata = arradata.fillna({'biconnected': 0})\n",
    "arradata['biconnected'] = arradata['biconnected'].astype(int)\n",
    "\n",
    "arradata['node_connectivity'] = node_connectivity\n",
    "arradata = arradata.fillna({'node_connectivity': 0})\n",
    "arradata['node_connectivity'] = arradata['node_connectivity'].astype(int)\n",
    "\n",
    "arradata['edge_connectivity'] = edge_connectivity\n",
    "arradata = arradata.fillna({'edge_connectivity': 0})\n",
    "arradata['edge_connectivity'] = arradata['edge_connectivity'].astype(int)\n",
    "\n",
    "arradata['average_connectivity'] = average_connectivity\n",
    "arradata = arradata.fillna({'average_connectivity': 0})\n",
    "arradata['average_connectivity'] = arradata['average_connectivity'].astype(int)\n",
    "\n",
    "arradata['radius'] = radius\n",
    "arradata = arradata.fillna({'radius': 0})\n",
    "arradata['radius'] = arradata['radius'].astype(int)\n",
    "\n",
    "arradata['diameter'] = diameter\n",
    "arradata = arradata.fillna({'diameter': 0})\n",
    "arradata['diameter'] = arradata['diameter'].astype(int)\n",
    "\n",
    "arradata['average_shortest_path'] = average_shortest_path\n",
    "arradata = arradata.fillna({'average_shortest_path': 0})\n",
    "arradata['average_shortest_path'] = arradata['average_shortest_path'].astype(int)\n",
    "\n",
    "arradata['isolates'] = isolates\n",
    "arradata = arradata.fillna({'isolates': 0})\n",
    "arradata['isolates'] = arradata['isolates'].astype(int)\n",
    "\n",
    "arradata.reset_index().ix[:,1:].head()"
   ]
  },
  {
   "cell_type": "markdown",
   "metadata": {},
   "source": [
    "Check for zero variance SNA metrics and remove them:"
   ]
  },
  {
   "cell_type": "code",
   "execution_count": 107,
   "metadata": {
    "collapsed": false
   },
   "outputs": [],
   "source": [
    "sna_loc_start = list(arradata.columns).index('largest_clique')\n",
    "sna_loc_end = arradata.shape[1]"
   ]
  },
  {
   "cell_type": "code",
   "execution_count": 108,
   "metadata": {
    "collapsed": false
   },
   "outputs": [
    {
     "data": {
      "text/plain": [
       "['average_clustering', 'transitivity', 'isolates']"
      ]
     },
     "execution_count": 108,
     "metadata": {},
     "output_type": "execute_result"
    }
   ],
   "source": [
    "trivial_cols_index = []\n",
    "for i in range(sna_loc_start, sna_loc_end):\n",
    "    if len(arradata.ix[:, i].unique()) == 1: trivial_cols_index.append(i)\n",
    "trivial_cols = [list(arradata.columns)[index] for index in trivial_cols_index]\n",
    "trivial_cols"
   ]
  },
  {
   "cell_type": "code",
   "execution_count": 109,
   "metadata": {
    "collapsed": false,
    "scrolled": false
   },
   "outputs": [],
   "source": [
    "ad_cleaned = arradata.drop(trivial_cols, axis = 1)"
   ]
  },
  {
   "cell_type": "markdown",
   "metadata": {},
   "source": [
    "Find perfectly correlated columns and remove them:"
   ]
  },
  {
   "cell_type": "code",
   "execution_count": 110,
   "metadata": {
    "collapsed": true
   },
   "outputs": [],
   "source": [
    "sna_corr = ad_cleaned.ix[:, sna_loc_start:].corr()"
   ]
  },
  {
   "cell_type": "code",
   "execution_count": 111,
   "metadata": {
    "collapsed": false
   },
   "outputs": [
    {
     "data": {
      "text/plain": [
       "[['connected', 'connected_components', 'radius', 'average_shortest_path']]"
      ]
     },
     "execution_count": 111,
     "metadata": {},
     "output_type": "execute_result"
    }
   ],
   "source": [
    "corrs = []\n",
    "for i in range(sna_corr.shape[0]):\n",
    "    ones = sna_corr.ix[i][sna_corr.ix[i] == 1.0].index.tolist()\n",
    "    ones_ind = [sna_corr.columns.tolist().index(o) for o in ones]\n",
    "    if (len(ones_ind) > 1) and ones_ind not in corrs: corrs.append(ones_ind)\n",
    "corrs_labels = [[sna_corr.columns.tolist()[a] for a in c] for c in corrs]\n",
    "corrs_labels"
   ]
  },
  {
   "cell_type": "code",
   "execution_count": 112,
   "metadata": {
    "collapsed": false
   },
   "outputs": [],
   "source": [
    "for l in corrs_labels:\n",
    "    ad_cleaned = ad_cleaned.drop(l[1:], axis = 1)"
   ]
  },
  {
   "cell_type": "markdown",
   "metadata": {},
   "source": [
    "These are the nontrivial SNA metrics:"
   ]
  },
  {
   "cell_type": "code",
   "execution_count": 120,
   "metadata": {
    "collapsed": false
   },
   "outputs": [
    {
     "data": {
      "text/html": [
       "<div>\n",
       "<table border=\"1\" class=\"dataframe\">\n",
       "  <thead>\n",
       "    <tr style=\"text-align: right;\">\n",
       "      <th></th>\n",
       "      <th>largest_clique</th>\n",
       "      <th>density</th>\n",
       "      <th>edge_count</th>\n",
       "      <th>assortativity</th>\n",
       "      <th>clique_count</th>\n",
       "      <th>connected</th>\n",
       "      <th>biconnected</th>\n",
       "      <th>node_connectivity</th>\n",
       "      <th>edge_connectivity</th>\n",
       "      <th>average_connectivity</th>\n",
       "      <th>diameter</th>\n",
       "    </tr>\n",
       "  </thead>\n",
       "  <tbody>\n",
       "    <tr>\n",
       "      <th>0</th>\n",
       "      <td>0</td>\n",
       "      <td>0</td>\n",
       "      <td>0</td>\n",
       "      <td>0</td>\n",
       "      <td>0</td>\n",
       "      <td>0</td>\n",
       "      <td>0</td>\n",
       "      <td>0</td>\n",
       "      <td>0</td>\n",
       "      <td>0</td>\n",
       "      <td>0</td>\n",
       "    </tr>\n",
       "    <tr>\n",
       "      <th>1</th>\n",
       "      <td>2</td>\n",
       "      <td>1</td>\n",
       "      <td>1</td>\n",
       "      <td>0</td>\n",
       "      <td>1</td>\n",
       "      <td>1</td>\n",
       "      <td>1</td>\n",
       "      <td>1</td>\n",
       "      <td>1</td>\n",
       "      <td>1</td>\n",
       "      <td>1</td>\n",
       "    </tr>\n",
       "    <tr>\n",
       "      <th>2</th>\n",
       "      <td>0</td>\n",
       "      <td>0</td>\n",
       "      <td>0</td>\n",
       "      <td>0</td>\n",
       "      <td>0</td>\n",
       "      <td>0</td>\n",
       "      <td>0</td>\n",
       "      <td>0</td>\n",
       "      <td>0</td>\n",
       "      <td>0</td>\n",
       "      <td>0</td>\n",
       "    </tr>\n",
       "    <tr>\n",
       "      <th>3</th>\n",
       "      <td>2</td>\n",
       "      <td>0</td>\n",
       "      <td>2</td>\n",
       "      <td>-1</td>\n",
       "      <td>2</td>\n",
       "      <td>1</td>\n",
       "      <td>0</td>\n",
       "      <td>1</td>\n",
       "      <td>1</td>\n",
       "      <td>1</td>\n",
       "      <td>2</td>\n",
       "    </tr>\n",
       "    <tr>\n",
       "      <th>4</th>\n",
       "      <td>4</td>\n",
       "      <td>0</td>\n",
       "      <td>20</td>\n",
       "      <td>0</td>\n",
       "      <td>11</td>\n",
       "      <td>1</td>\n",
       "      <td>0</td>\n",
       "      <td>1</td>\n",
       "      <td>1</td>\n",
       "      <td>1</td>\n",
       "      <td>2</td>\n",
       "    </tr>\n",
       "  </tbody>\n",
       "</table>\n",
       "</div>"
      ],
      "text/plain": [
       "   largest_clique  density  edge_count  assortativity  clique_count  \\\n",
       "0               0        0           0              0             0   \n",
       "1               2        1           1              0             1   \n",
       "2               0        0           0              0             0   \n",
       "3               2        0           2             -1             2   \n",
       "4               4        0          20              0            11   \n",
       "\n",
       "   connected  biconnected  node_connectivity  edge_connectivity  \\\n",
       "0          0            0                  0                  0   \n",
       "1          1            1                  1                  1   \n",
       "2          0            0                  0                  0   \n",
       "3          1            0                  1                  1   \n",
       "4          1            0                  1                  1   \n",
       "\n",
       "   average_connectivity  diameter  \n",
       "0                     0         0  \n",
       "1                     1         1  \n",
       "2                     0         0  \n",
       "3                     1         2  \n",
       "4                     1         2  "
      ]
     },
     "execution_count": 120,
     "metadata": {},
     "output_type": "execute_result"
    }
   ],
   "source": [
    "ad_cleaned.reset_index().ix[:, (sna_loc_start+1):].head()"
   ]
  },
  {
   "cell_type": "markdown",
   "metadata": {},
   "source": [
    "For later: need to implement the actual weight matrix for correct SNA:"
   ]
  },
  {
   "cell_type": "code",
   "execution_count": 114,
   "metadata": {
    "collapsed": false
   },
   "outputs": [],
   "source": [
    "weight_matrix = 1. / tag_matrix\n",
    "np.place(weight_matrix, weight_matrix == np.inf, 0)"
   ]
  },
  {
   "cell_type": "markdown",
   "metadata": {},
   "source": [
    "Close connection:"
   ]
  },
  {
   "cell_type": "code",
   "execution_count": 115,
   "metadata": {
    "collapsed": false
   },
   "outputs": [],
   "source": [
    "conn.close()"
   ]
  },
  {
   "cell_type": "markdown",
   "metadata": {},
   "source": [
    "# 4. Classification"
   ]
  },
  {
   "cell_type": "code",
   "execution_count": 139,
   "metadata": {
    "collapsed": true
   },
   "outputs": [],
   "source": [
    "import sklearn.metrics\n",
    "from sklearn.preprocessing import Binarizer\n",
    "from sklearn.cross_validation import train_test_split\n",
    "from sklearn.ensemble import RandomForestClassifier \n",
    "from sklearn import preprocessing\n",
    "from sklearn.neighbors import KNeighborsClassifier\n",
    "from sklearn.svm import SVC\n",
    "from sklearn.cross_validation import cross_val_score\n",
    "from sklearn.metrics import accuracy_score"
   ]
  },
  {
   "cell_type": "markdown",
   "metadata": {
    "nbpresent": {
     "id": "ad772671-9700-4b44-a0b2-29e738c5695f"
    }
   },
   "source": [
    "### 4.1 Feature subselection and preprocessing"
   ]
  },
  {
   "cell_type": "markdown",
   "metadata": {},
   "source": [
    "Dichotomize responses for a first stab at classification:"
   ]
  },
  {
   "cell_type": "code",
   "execution_count": 123,
   "metadata": {
    "collapsed": false,
    "nbpresent": {
     "id": "234e23f3-d164-41e5-861e-53fd1beae19f"
    }
   },
   "outputs": [
    {
     "name": "stderr",
     "output_type": "stream",
     "text": [
      "/Volumes/Scratch/anaconda2/lib/python2.7/site-packages/sklearn/utils/validation.py:386: DeprecationWarning: Passing 1d arrays as data is deprecated in 0.17 and willraise ValueError in 0.19. Reshape your data either using X.reshape(-1, 1) if your data has a single feature or X.reshape(1, -1) if it contains a single sample.\n",
      "  DeprecationWarning)\n",
      "/Volumes/Scratch/anaconda2/lib/python2.7/site-packages/sklearn/utils/validation.py:386: DeprecationWarning: Passing 1d arrays as data is deprecated in 0.17 and willraise ValueError in 0.19. Reshape your data either using X.reshape(-1, 1) if your data has a single feature or X.reshape(1, -1) if it contains a single sample.\n",
      "  DeprecationWarning)\n",
      "/Volumes/Scratch/anaconda2/lib/python2.7/site-packages/sklearn/utils/validation.py:386: DeprecationWarning: Passing 1d arrays as data is deprecated in 0.17 and willraise ValueError in 0.19. Reshape your data either using X.reshape(-1, 1) if your data has a single feature or X.reshape(1, -1) if it contains a single sample.\n",
      "  DeprecationWarning)\n",
      "/Volumes/Scratch/anaconda2/lib/python2.7/site-packages/sklearn/utils/validation.py:386: DeprecationWarning: Passing 1d arrays as data is deprecated in 0.17 and willraise ValueError in 0.19. Reshape your data either using X.reshape(-1, 1) if your data has a single feature or X.reshape(1, -1) if it contains a single sample.\n",
      "  DeprecationWarning)\n"
     ]
    }
   ],
   "source": [
    "arradata['dichot_tobacco'] = Binarizer(threshold = 1.5).transform(arradata['tobacco']).flatten()\n",
    "arradata['dichot_drinks'] = Binarizer(threshold = 1.5).transform(arradata['drinks']).flatten()\n",
    "arradata['dichot_illegal_drugs'] = Binarizer(threshold = 1.5).transform(arradata['illegal_drugs']).flatten()\n",
    "arradata['dichot_prescription_drugs'] = Binarizer(threshold = 1.5).transform(arradata['prescription_drugs']).flatten()"
   ]
  },
  {
   "cell_type": "markdown",
   "metadata": {
    "collapsed": false
   },
   "source": [
    "Remove some of the columns:"
   ]
  },
  {
   "cell_type": "code",
   "execution_count": 124,
   "metadata": {
    "collapsed": true
   },
   "outputs": [],
   "source": [
    "remove_columns = ['drinks','tobacco','illegal_drugs','prescription_drugs','magnetism','follow_ratio',\n",
    "                  'bmi_cat','health_score']"
   ]
  },
  {
   "cell_type": "code",
   "execution_count": 125,
   "metadata": {
    "collapsed": false,
    "scrolled": false
   },
   "outputs": [
    {
     "name": "stdout",
     "output_type": "stream",
     "text": [
      "['age', 'gender', 'race', 'height', 'weight', 'media', 'likes', 'comments', 'follows', 'followed_by', 'mean_likes', 'mean_comments', 'bmi', 'log_follow_ratio', 'log_mean_activity', 'log_magnetism', 'largest_clique', 'density', 'edge_count', 'assortativity', 'clique_count', 'connected', 'biconnected', 'node_connectivity', 'edge_connectivity', 'average_connectivity', 'diameter']\n"
     ]
    }
   ],
   "source": [
    "XDesign_raw = ad_cleaned.drop(remove_columns, axis = 1)\n",
    "print(XDesign_raw.columns.tolist())"
   ]
  },
  {
   "cell_type": "markdown",
   "metadata": {},
   "source": [
    "In `sklearn`, all features need to be numerical -- check which are not:"
   ]
  },
  {
   "cell_type": "code",
   "execution_count": 126,
   "metadata": {
    "collapsed": false,
    "scrolled": true
   },
   "outputs": [
    {
     "data": {
      "text/plain": [
       "gender    object\n",
       "race      object\n",
       "dtype: object"
      ]
     },
     "execution_count": 126,
     "metadata": {},
     "output_type": "execute_result"
    }
   ],
   "source": [
    "nonnumber_cols = XDesign_raw.dtypes[(XDesign_raw.dtypes != 'int64') & (XDesign_raw.dtypes != 'float64')]\n",
    "nonnumber_cols"
   ]
  },
  {
   "cell_type": "markdown",
   "metadata": {},
   "source": [
    "Replace those with dummies:"
   ]
  },
  {
   "cell_type": "code",
   "execution_count": 127,
   "metadata": {
    "collapsed": true
   },
   "outputs": [],
   "source": [
    "XDesign = pd.get_dummies(XDesign_raw)\n",
    "num_dummies = XDesign.shape[1] - (XDesign_raw.shape[1] - 2)\n",
    "XDesign.ix[:, -num_dummies:] = XDesign.ix[:, -num_dummies:].astype('int64')"
   ]
  },
  {
   "cell_type": "code",
   "execution_count": 129,
   "metadata": {
    "collapsed": false
   },
   "outputs": [
    {
     "data": {
      "text/html": [
       "<div>\n",
       "<table border=\"1\" class=\"dataframe\">\n",
       "  <thead>\n",
       "    <tr style=\"text-align: right;\">\n",
       "      <th></th>\n",
       "      <th>age</th>\n",
       "      <th>height</th>\n",
       "      <th>weight</th>\n",
       "      <th>media</th>\n",
       "      <th>likes</th>\n",
       "      <th>comments</th>\n",
       "      <th>follows</th>\n",
       "      <th>followed_by</th>\n",
       "      <th>mean_likes</th>\n",
       "      <th>mean_comments</th>\n",
       "      <th>...</th>\n",
       "      <th>edge_connectivity</th>\n",
       "      <th>average_connectivity</th>\n",
       "      <th>diameter</th>\n",
       "      <th>gender_Female</th>\n",
       "      <th>gender_Male</th>\n",
       "      <th>race_Asian</th>\n",
       "      <th>race_Black</th>\n",
       "      <th>race_Hispanic/Latino</th>\n",
       "      <th>race_Other</th>\n",
       "      <th>race_White</th>\n",
       "    </tr>\n",
       "  </thead>\n",
       "  <tbody>\n",
       "    <tr>\n",
       "      <th>0</th>\n",
       "      <td>31</td>\n",
       "      <td>170</td>\n",
       "      <td>51</td>\n",
       "      <td>0</td>\n",
       "      <td>0</td>\n",
       "      <td>0</td>\n",
       "      <td>0</td>\n",
       "      <td>0</td>\n",
       "      <td>0.000000</td>\n",
       "      <td>0.000000</td>\n",
       "      <td>...</td>\n",
       "      <td>0</td>\n",
       "      <td>0</td>\n",
       "      <td>0</td>\n",
       "      <td>0</td>\n",
       "      <td>1</td>\n",
       "      <td>0</td>\n",
       "      <td>0</td>\n",
       "      <td>0</td>\n",
       "      <td>0</td>\n",
       "      <td>1</td>\n",
       "    </tr>\n",
       "    <tr>\n",
       "      <th>1</th>\n",
       "      <td>30</td>\n",
       "      <td>163</td>\n",
       "      <td>61</td>\n",
       "      <td>50</td>\n",
       "      <td>612</td>\n",
       "      <td>46</td>\n",
       "      <td>264</td>\n",
       "      <td>179</td>\n",
       "      <td>12.000000</td>\n",
       "      <td>0.901961</td>\n",
       "      <td>...</td>\n",
       "      <td>1</td>\n",
       "      <td>1</td>\n",
       "      <td>1</td>\n",
       "      <td>1</td>\n",
       "      <td>0</td>\n",
       "      <td>0</td>\n",
       "      <td>0</td>\n",
       "      <td>0</td>\n",
       "      <td>0</td>\n",
       "      <td>1</td>\n",
       "    </tr>\n",
       "    <tr>\n",
       "      <th>2</th>\n",
       "      <td>36</td>\n",
       "      <td>163</td>\n",
       "      <td>68</td>\n",
       "      <td>0</td>\n",
       "      <td>0</td>\n",
       "      <td>0</td>\n",
       "      <td>0</td>\n",
       "      <td>0</td>\n",
       "      <td>0.000000</td>\n",
       "      <td>0.000000</td>\n",
       "      <td>...</td>\n",
       "      <td>0</td>\n",
       "      <td>0</td>\n",
       "      <td>0</td>\n",
       "      <td>1</td>\n",
       "      <td>0</td>\n",
       "      <td>0</td>\n",
       "      <td>0</td>\n",
       "      <td>0</td>\n",
       "      <td>0</td>\n",
       "      <td>1</td>\n",
       "    </tr>\n",
       "    <tr>\n",
       "      <th>3</th>\n",
       "      <td>31</td>\n",
       "      <td>188</td>\n",
       "      <td>147</td>\n",
       "      <td>30</td>\n",
       "      <td>182</td>\n",
       "      <td>45</td>\n",
       "      <td>92</td>\n",
       "      <td>46</td>\n",
       "      <td>5.870968</td>\n",
       "      <td>1.451613</td>\n",
       "      <td>...</td>\n",
       "      <td>1</td>\n",
       "      <td>1</td>\n",
       "      <td>2</td>\n",
       "      <td>0</td>\n",
       "      <td>1</td>\n",
       "      <td>0</td>\n",
       "      <td>0</td>\n",
       "      <td>0</td>\n",
       "      <td>0</td>\n",
       "      <td>1</td>\n",
       "    </tr>\n",
       "    <tr>\n",
       "      <th>4</th>\n",
       "      <td>30</td>\n",
       "      <td>165</td>\n",
       "      <td>72</td>\n",
       "      <td>647</td>\n",
       "      <td>4390</td>\n",
       "      <td>368</td>\n",
       "      <td>233</td>\n",
       "      <td>196</td>\n",
       "      <td>6.774691</td>\n",
       "      <td>0.567901</td>\n",
       "      <td>...</td>\n",
       "      <td>1</td>\n",
       "      <td>1</td>\n",
       "      <td>2</td>\n",
       "      <td>1</td>\n",
       "      <td>0</td>\n",
       "      <td>0</td>\n",
       "      <td>0</td>\n",
       "      <td>0</td>\n",
       "      <td>0</td>\n",
       "      <td>1</td>\n",
       "    </tr>\n",
       "  </tbody>\n",
       "</table>\n",
       "<p>5 rows × 32 columns</p>\n",
       "</div>"
      ],
      "text/plain": [
       "   age  height  weight  media  likes  comments  follows  followed_by  \\\n",
       "0   31     170      51      0      0         0        0            0   \n",
       "1   30     163      61     50    612        46      264          179   \n",
       "2   36     163      68      0      0         0        0            0   \n",
       "3   31     188     147     30    182        45       92           46   \n",
       "4   30     165      72    647   4390       368      233          196   \n",
       "\n",
       "   mean_likes  mean_comments     ...      edge_connectivity  \\\n",
       "0    0.000000       0.000000     ...                      0   \n",
       "1   12.000000       0.901961     ...                      1   \n",
       "2    0.000000       0.000000     ...                      0   \n",
       "3    5.870968       1.451613     ...                      1   \n",
       "4    6.774691       0.567901     ...                      1   \n",
       "\n",
       "   average_connectivity  diameter  gender_Female  gender_Male  race_Asian  \\\n",
       "0                     0         0              0            1           0   \n",
       "1                     1         1              1            0           0   \n",
       "2                     0         0              1            0           0   \n",
       "3                     1         2              0            1           0   \n",
       "4                     1         2              1            0           0   \n",
       "\n",
       "   race_Black  race_Hispanic/Latino  race_Other  race_White  \n",
       "0           0                     0           0           1  \n",
       "1           0                     0           0           1  \n",
       "2           0                     0           0           1  \n",
       "3           0                     0           0           1  \n",
       "4           0                     0           0           1  \n",
       "\n",
       "[5 rows x 32 columns]"
      ]
     },
     "execution_count": 129,
     "metadata": {},
     "output_type": "execute_result"
    }
   ],
   "source": [
    "XDesign.reset_index().ix[:, 1:].head()"
   ]
  },
  {
   "cell_type": "markdown",
   "metadata": {},
   "source": [
    "We also need to standardize the features:"
   ]
  },
  {
   "cell_type": "code",
   "execution_count": 133,
   "metadata": {
    "collapsed": true
   },
   "outputs": [],
   "source": [
    "X_scaled = preprocessing.scale(XDesign)"
   ]
  },
  {
   "cell_type": "markdown",
   "metadata": {},
   "source": [
    "Finally, put each of the responses in a list:"
   ]
  },
  {
   "cell_type": "code",
   "execution_count": 137,
   "metadata": {
    "collapsed": true
   },
   "outputs": [],
   "source": [
    "YResponse = [np.array(arradata['dichot_drinks']), np.array(arradata['dichot_tobacco']),\n",
    "            np.array(arradata['dichot_illegal_drugs']), np.array(arradata['dichot_prescription_drugs'])]\n",
    "Y_labels = ['drinks','tobacco','illegal_drugs','prescription_drugs']"
   ]
  },
  {
   "cell_type": "markdown",
   "metadata": {},
   "source": [
    "### 4.2 kNN"
   ]
  },
  {
   "cell_type": "markdown",
   "metadata": {},
   "source": [
    "Since we don't have much data at this point, try kNN, with different number of neighbors and two different metrics:"
   ]
  },
  {
   "cell_type": "code",
   "execution_count": 140,
   "metadata": {
    "collapsed": true
   },
   "outputs": [],
   "source": [
    "knn_res_p1 = {}\n",
    "for i in range(4):\n",
    "    X_train, X_test, y_train, y_test = train_test_split(X_scaled, YResponse[i], test_size = 0.2, random_state = 0)\n",
    "    cv_means = []\n",
    "    for n in range(1,6):\n",
    "        clf = KNeighborsClassifier(n_neighbors = n, p = 1)\n",
    "        cv = cross_val_score(clf, X_train, y_train, cv = 10)\n",
    "        cv_means.append(cv.mean())\n",
    "    knn_res_p1[Y_labels[i]] = cv_means"
   ]
  },
  {
   "cell_type": "code",
   "execution_count": 141,
   "metadata": {
    "collapsed": true
   },
   "outputs": [],
   "source": [
    "knn_res_p2 = {}\n",
    "for i in range(4):\n",
    "    X_train, X_test, y_train, y_test = train_test_split(X_scaled, YResponse[i], test_size = 0.2, random_state = 0)\n",
    "    cv_means = []\n",
    "    for n in range(1,6):\n",
    "        clf = KNeighborsClassifier(n_neighbors = n, p = 2)\n",
    "        cv = cross_val_score(clf, X_train, y_train, cv = 10)\n",
    "        cv_means.append(cv.mean())\n",
    "    knn_res_p2[Y_labels[i]] = cv_means"
   ]
  },
  {
   "cell_type": "code",
   "execution_count": 142,
   "metadata": {
    "collapsed": false
   },
   "outputs": [
    {
     "data": {
      "text/html": [
       "<div>\n",
       "<table border=\"1\" class=\"dataframe\">\n",
       "  <thead>\n",
       "    <tr style=\"text-align: right;\">\n",
       "      <th></th>\n",
       "      <th>drinks</th>\n",
       "      <th>illegal_drugs</th>\n",
       "      <th>prescription_drugs</th>\n",
       "      <th>tobacco</th>\n",
       "    </tr>\n",
       "  </thead>\n",
       "  <tbody>\n",
       "    <tr>\n",
       "      <th>1</th>\n",
       "      <td>0.524722</td>\n",
       "      <td>0.612698</td>\n",
       "      <td>0.6875</td>\n",
       "      <td>0.554444</td>\n",
       "    </tr>\n",
       "    <tr>\n",
       "      <th>2</th>\n",
       "      <td>0.496667</td>\n",
       "      <td>0.593651</td>\n",
       "      <td>0.8150</td>\n",
       "      <td>0.500000</td>\n",
       "    </tr>\n",
       "    <tr>\n",
       "      <th>3</th>\n",
       "      <td>0.573333</td>\n",
       "      <td>0.649206</td>\n",
       "      <td>0.7725</td>\n",
       "      <td>0.524722</td>\n",
       "    </tr>\n",
       "    <tr>\n",
       "      <th>4</th>\n",
       "      <td>0.540278</td>\n",
       "      <td>0.615873</td>\n",
       "      <td>0.8250</td>\n",
       "      <td>0.492778</td>\n",
       "    </tr>\n",
       "    <tr>\n",
       "      <th>5</th>\n",
       "      <td>0.649444</td>\n",
       "      <td>0.604762</td>\n",
       "      <td>0.8150</td>\n",
       "      <td>0.558333</td>\n",
       "    </tr>\n",
       "  </tbody>\n",
       "</table>\n",
       "</div>"
      ],
      "text/plain": [
       "     drinks  illegal_drugs  prescription_drugs   tobacco\n",
       "1  0.524722       0.612698              0.6875  0.554444\n",
       "2  0.496667       0.593651              0.8150  0.500000\n",
       "3  0.573333       0.649206              0.7725  0.524722\n",
       "4  0.540278       0.615873              0.8250  0.492778\n",
       "5  0.649444       0.604762              0.8150  0.558333"
      ]
     },
     "execution_count": 142,
     "metadata": {},
     "output_type": "execute_result"
    }
   ],
   "source": [
    "pd.DataFrame(knn_res_p1, index = range(1,6))"
   ]
  },
  {
   "cell_type": "code",
   "execution_count": 143,
   "metadata": {
    "collapsed": false
   },
   "outputs": [
    {
     "data": {
      "text/html": [
       "<div>\n",
       "<table border=\"1\" class=\"dataframe\">\n",
       "  <thead>\n",
       "    <tr style=\"text-align: right;\">\n",
       "      <th></th>\n",
       "      <th>drinks</th>\n",
       "      <th>illegal_drugs</th>\n",
       "      <th>prescription_drugs</th>\n",
       "      <th>tobacco</th>\n",
       "    </tr>\n",
       "  </thead>\n",
       "  <tbody>\n",
       "    <tr>\n",
       "      <th>1</th>\n",
       "      <td>0.593333</td>\n",
       "      <td>0.615873</td>\n",
       "      <td>0.6750</td>\n",
       "      <td>0.583056</td>\n",
       "    </tr>\n",
       "    <tr>\n",
       "      <th>2</th>\n",
       "      <td>0.571389</td>\n",
       "      <td>0.674603</td>\n",
       "      <td>0.8075</td>\n",
       "      <td>0.502500</td>\n",
       "    </tr>\n",
       "    <tr>\n",
       "      <th>3</th>\n",
       "      <td>0.590000</td>\n",
       "      <td>0.652381</td>\n",
       "      <td>0.7725</td>\n",
       "      <td>0.472778</td>\n",
       "    </tr>\n",
       "    <tr>\n",
       "      <th>4</th>\n",
       "      <td>0.577778</td>\n",
       "      <td>0.649206</td>\n",
       "      <td>0.8150</td>\n",
       "      <td>0.459167</td>\n",
       "    </tr>\n",
       "    <tr>\n",
       "      <th>5</th>\n",
       "      <td>0.606111</td>\n",
       "      <td>0.604762</td>\n",
       "      <td>0.7925</td>\n",
       "      <td>0.492500</td>\n",
       "    </tr>\n",
       "  </tbody>\n",
       "</table>\n",
       "</div>"
      ],
      "text/plain": [
       "     drinks  illegal_drugs  prescription_drugs   tobacco\n",
       "1  0.593333       0.615873              0.6750  0.583056\n",
       "2  0.571389       0.674603              0.8075  0.502500\n",
       "3  0.590000       0.652381              0.7725  0.472778\n",
       "4  0.577778       0.649206              0.8150  0.459167\n",
       "5  0.606111       0.604762              0.7925  0.492500"
      ]
     },
     "execution_count": 143,
     "metadata": {},
     "output_type": "execute_result"
    }
   ],
   "source": [
    "pd.DataFrame(knn_res_p2, index = range(1,6))"
   ]
  },
  {
   "cell_type": "markdown",
   "metadata": {},
   "source": [
    "For some of this, we need to look at F1 score (to come)."
   ]
  },
  {
   "cell_type": "markdown",
   "metadata": {},
   "source": [
    "### 4.3 Random forest"
   ]
  },
  {
   "cell_type": "markdown",
   "metadata": {},
   "source": [
    "Since kNN is not working that great, let's try the most popular ensemble classifier:"
   ]
  },
  {
   "cell_type": "code",
   "execution_count": 144,
   "metadata": {
    "collapsed": false
   },
   "outputs": [
    {
     "data": {
      "text/plain": [
       "[0.54545454545454541,\n",
       " 0.45454545454545453,\n",
       " 0.72727272727272729,\n",
       " 0.77272727272727271]"
      ]
     },
     "execution_count": 144,
     "metadata": {},
     "output_type": "execute_result"
    }
   ],
   "source": [
    "rf_res = []\n",
    "clf = RandomForestClassifier(n_estimators = 500)\n",
    "for i in range(4):\n",
    "    X_train, X_test, y_train, y_test = train_test_split(X_scaled, YResponse[i], test_size = 0.2, random_state = 0)\n",
    "    clf.fit(X_train, y_train)\n",
    "    y_pred = clf.predict(X_test)\n",
    "    rf_res.append(accuracy_score(y_test, y_pred))\n",
    "rf_res"
   ]
  },
  {
   "cell_type": "markdown",
   "metadata": {},
   "source": [
    "Next: play with `max_features` and `max_depth`..."
   ]
  },
  {
   "cell_type": "markdown",
   "metadata": {},
   "source": [
    "### 4.4 SVM"
   ]
  },
  {
   "cell_type": "markdown",
   "metadata": {},
   "source": [
    "Another good non-linear classifier is SVM, try it with a standard Gaussian kernel:"
   ]
  },
  {
   "cell_type": "code",
   "execution_count": 145,
   "metadata": {
    "collapsed": false
   },
   "outputs": [
    {
     "data": {
      "text/plain": [
       "[0.6380555555555556,\n",
       " 0.45416666666666661,\n",
       " 0.67142857142857149,\n",
       " 0.84499999999999997]"
      ]
     },
     "execution_count": 145,
     "metadata": {},
     "output_type": "execute_result"
    }
   ],
   "source": [
    "clf = SVC(kernel='rbf')\n",
    "svm_res = []\n",
    "for i in range(4):\n",
    "    X_train, X_test, y_train, y_test = train_test_split(X_scaled, YResponse[i], test_size = 0.2, random_state = 0)\n",
    "    cv = cross_val_score(clf, X_train, y_train, cv = 10)\n",
    "    svm_res.append(cv.mean())\n",
    "svm_res"
   ]
  },
  {
   "cell_type": "markdown",
   "metadata": {},
   "source": [
    "Next: will play with `kernel`, `C`, and `gamma`"
   ]
  }
 ],
 "metadata": {
  "anaconda-cloud": {},
  "kernelspec": {
   "display_name": "Python [Root]",
   "language": "python",
   "name": "Python [Root]"
  },
  "language_info": {
   "codemirror_mode": {
    "name": "ipython",
    "version": 2
   },
   "file_extension": ".py",
   "mimetype": "text/x-python",
   "name": "python",
   "nbconvert_exporter": "python",
   "pygments_lexer": "ipython2",
   "version": "2.7.12"
  },
  "nbpresent": {
   "slides": {
    "0717e061-bbd4-47d7-b2da-370b60ab5415": {
     "id": "0717e061-bbd4-47d7-b2da-370b60ab5415",
     "prev": "ffc95763-7f36-4fed-ad62-18c0aab6757d",
     "regions": {
      "ba12c896-63e9-4595-9e3b-466fe27bc4a0": {
       "attrs": {
        "height": 0.8,
        "width": 0.8,
        "x": 0.1,
        "y": 0.1
       },
       "content": {
        "cell": "bccadd84-6c95-4b75-b42c-1993fcc67e64",
        "part": "whole"
       },
       "id": "ba12c896-63e9-4595-9e3b-466fe27bc4a0"
      }
     }
    },
    "0aa2c17b-cf19-4840-ae0d-0d469a80b66b": {
     "id": "0aa2c17b-cf19-4840-ae0d-0d469a80b66b",
     "prev": "145ec383-092e-45f4-b695-d662ac33fa84",
     "regions": {
      "565f6b74-3808-4665-ae7e-fd839862f993": {
       "attrs": {
        "height": 0.8,
        "width": 0.8,
        "x": 0.1,
        "y": 0.1
       },
       "content": {
        "cell": "de91dd7b-7b75-4209-b0d4-906ab269d2f8",
        "part": "whole"
       },
       "id": "565f6b74-3808-4665-ae7e-fd839862f993"
      }
     }
    },
    "0e563e37-42be-484b-b76f-87a52066828f": {
     "id": "0e563e37-42be-484b-b76f-87a52066828f",
     "prev": "544f1db8-4dec-4aae-a539-6b06e249afaa",
     "regions": {
      "d2974ec1-b4e2-4f82-9969-c11a2c3a5567": {
       "attrs": {
        "height": 0.8,
        "width": 0.8,
        "x": 0.1,
        "y": 0.1
       },
       "content": {
        "cell": "f45c0a34-9066-49d2-bafa-b2dead136e96",
        "part": "whole"
       },
       "id": "d2974ec1-b4e2-4f82-9969-c11a2c3a5567"
      }
     }
    },
    "0e6668b5-5ec2-4f2f-9631-0542687e5328": {
     "id": "0e6668b5-5ec2-4f2f-9631-0542687e5328",
     "prev": "99b9f1aa-5a3f-4892-83a9-47f16ba2bb95",
     "regions": {
      "a89be585-2646-479b-85ec-0b28b43fd848": {
       "attrs": {
        "height": 0.8,
        "width": 0.8,
        "x": 0.1,
        "y": 0.1
       },
       "content": {
        "cell": "a8f03b8d-b807-4223-8bdd-9d3fa8cb800b",
        "part": "whole"
       },
       "id": "a89be585-2646-479b-85ec-0b28b43fd848"
      }
     }
    },
    "145ec383-092e-45f4-b695-d662ac33fa84": {
     "id": "145ec383-092e-45f4-b695-d662ac33fa84",
     "prev": "3b71d4ca-a583-4bca-81c0-4c3afc150356",
     "regions": {
      "b679ba1d-178d-4d34-bdea-092783867582": {
       "attrs": {
        "height": 0.8,
        "width": 0.8,
        "x": 0.1,
        "y": 0.1
       },
       "content": {
        "cell": "2442d375-3f86-4bbc-bdb4-7e4d8f774831",
        "part": "whole"
       },
       "id": "b679ba1d-178d-4d34-bdea-092783867582"
      }
     }
    },
    "15e3cf99-c082-4255-8639-f2b23aad0112": {
     "id": "15e3cf99-c082-4255-8639-f2b23aad0112",
     "prev": "722ab964-466c-46ca-b719-102e82454461",
     "regions": {
      "7c0494e9-7d97-4fcc-a998-fcabcfefcfae": {
       "attrs": {
        "height": 0.8,
        "width": 0.8,
        "x": 0.1,
        "y": 0.1
       },
       "content": {
        "cell": "5313bed6-927a-4b05-8ce2-ddc540d22a37",
        "part": "whole"
       },
       "id": "7c0494e9-7d97-4fcc-a998-fcabcfefcfae"
      }
     }
    },
    "168f0420-d97d-40e6-8417-345b83cbe440": {
     "id": "168f0420-d97d-40e6-8417-345b83cbe440",
     "prev": "0aa2c17b-cf19-4840-ae0d-0d469a80b66b",
     "regions": {
      "a713c60e-8035-4ab0-a98c-c35f86183e5c": {
       "attrs": {
        "height": 0.8,
        "width": 0.8,
        "x": 0.1,
        "y": 0.1
       },
       "content": {
        "cell": "a4140647-0777-44b4-a8c9-df7d1c2e331f",
        "part": "whole"
       },
       "id": "a713c60e-8035-4ab0-a98c-c35f86183e5c"
      }
     }
    },
    "1d475ddd-ee6c-40fb-8c16-013b296d9519": {
     "id": "1d475ddd-ee6c-40fb-8c16-013b296d9519",
     "prev": "b65a8823-abfb-4253-87cb-774d58a6e6a9",
     "regions": {
      "1c49a245-17ff-43b0-afd9-cc37f199ce9d": {
       "attrs": {
        "height": 0.8,
        "width": 0.8,
        "x": 0.1,
        "y": 0.1
       },
       "content": {
        "cell": "354bd091-bb16-4595-b351-453f4f7c7b14",
        "part": "whole"
       },
       "id": "1c49a245-17ff-43b0-afd9-cc37f199ce9d"
      }
     }
    },
    "1e27d4c8-29c1-44d1-b559-ad073b53b861": {
     "id": "1e27d4c8-29c1-44d1-b559-ad073b53b861",
     "prev": "1d475ddd-ee6c-40fb-8c16-013b296d9519",
     "regions": {
      "85c269ae-1874-498a-b0ad-be4091f05da5": {
       "attrs": {
        "height": 0.8,
        "width": 0.8,
        "x": 0.1,
        "y": 0.1
       },
       "content": {
        "cell": "b3c50ce0-02bd-4599-9f61-715e2d1db843",
        "part": "whole"
       },
       "id": "85c269ae-1874-498a-b0ad-be4091f05da5"
      }
     }
    },
    "23f43bae-fcc8-4f07-9b5f-c202b996c16e": {
     "id": "23f43bae-fcc8-4f07-9b5f-c202b996c16e",
     "prev": "cbafbf42-614e-45ad-8fd6-192b1fc09d19",
     "regions": {
      "c30a9e39-ca4c-4552-b89e-9ee1dfb57cf9": {
       "attrs": {
        "height": 0.8,
        "width": 0.8,
        "x": 0.1,
        "y": 0.1
       },
       "content": {
        "cell": "ba3a38fc-1528-4821-9646-4796bd8cec8b",
        "part": "whole"
       },
       "id": "c30a9e39-ca4c-4552-b89e-9ee1dfb57cf9"
      }
     }
    },
    "2430c85e-d973-4fc8-8914-69959629585d": {
     "id": "2430c85e-d973-4fc8-8914-69959629585d",
     "prev": "e4eb7406-8409-461e-8b9e-25098408ce95",
     "regions": {
      "852305b8-b16c-4ff7-9354-ad503b588b6b": {
       "attrs": {
        "height": 0.8,
        "width": 0.8,
        "x": 0.1,
        "y": 0.1
       },
       "content": {
        "cell": "b9600ba5-3fb1-42b0-aae3-0488da728dea",
        "part": "whole"
       },
       "id": "852305b8-b16c-4ff7-9354-ad503b588b6b"
      }
     }
    },
    "271ea722-b025-49c1-9641-322569ba36b2": {
     "id": "271ea722-b025-49c1-9641-322569ba36b2",
     "prev": "c134c1cb-1dba-4c20-99db-1d40cf8cb504",
     "regions": {
      "9624507a-3b0f-4dfe-8a28-1b60204e9a6a": {
       "attrs": {
        "height": 0.8,
        "width": 0.8,
        "x": 0.1,
        "y": 0.1
       },
       "content": {
        "cell": "a000f6c2-6284-47d6-85e4-8a5476d3d02f",
        "part": "whole"
       },
       "id": "9624507a-3b0f-4dfe-8a28-1b60204e9a6a"
      }
     }
    },
    "2726c096-0429-4173-9f0c-2590fe5bcece": {
     "id": "2726c096-0429-4173-9f0c-2590fe5bcece",
     "prev": "dbe21175-fc89-4fce-bbcb-a9f70c14868d",
     "regions": {
      "dabd4127-31ff-4d1b-9516-c9410a137f0d": {
       "attrs": {
        "height": 0.8,
        "width": 0.8,
        "x": 0.1,
        "y": 0.1
       },
       "content": {
        "cell": "30ee096a-0b0c-41b2-bd1f-ab7786ce339d",
        "part": "whole"
       },
       "id": "dabd4127-31ff-4d1b-9516-c9410a137f0d"
      }
     }
    },
    "275bc664-2904-4005-8ce0-1e27180e8b8e": {
     "id": "275bc664-2904-4005-8ce0-1e27180e8b8e",
     "prev": "3f890313-ec72-4be4-a7ba-47465e6dfc6a",
     "regions": {
      "e28e01d6-da90-4c45-ba48-6ff83c8f5c09": {
       "attrs": {
        "height": 0.8,
        "width": 0.8,
        "x": 0.1,
        "y": 0.1
       },
       "content": {
        "cell": "6b9dc883-ef09-4370-b75c-1488da2b7bb1",
        "part": "whole"
       },
       "id": "e28e01d6-da90-4c45-ba48-6ff83c8f5c09"
      }
     }
    },
    "2a735283-3a65-4f89-9403-23fb32a156ae": {
     "id": "2a735283-3a65-4f89-9403-23fb32a156ae",
     "prev": "78be197a-ed12-4372-8f0d-df1f22b4043b",
     "regions": {
      "527baa35-c7e4-4771-a7b8-97d8e0f6594e": {
       "attrs": {
        "height": 0.8,
        "width": 0.8,
        "x": 0.1,
        "y": 0.1
       },
       "content": {
        "cell": "7f5f03b2-cc60-4d20-b337-588f29bb5716",
        "part": "whole"
       },
       "id": "527baa35-c7e4-4771-a7b8-97d8e0f6594e"
      }
     }
    },
    "2f453b0b-08c5-44af-9072-c1159f406955": {
     "id": "2f453b0b-08c5-44af-9072-c1159f406955",
     "prev": "979a15f7-5cee-429d-aff4-4141f4418257",
     "regions": {
      "94f1890e-62e1-40f1-8723-94b0086917aa": {
       "attrs": {
        "height": 0.8,
        "width": 0.8,
        "x": 0.1,
        "y": 0.1
       },
       "content": {
        "cell": "ad772671-9700-4b44-a0b2-29e738c5695f",
        "part": "whole"
       },
       "id": "94f1890e-62e1-40f1-8723-94b0086917aa"
      }
     }
    },
    "30163cf3-809d-4a34-93fa-4913e5d4c79b": {
     "id": "30163cf3-809d-4a34-93fa-4913e5d4c79b",
     "prev": "bd87687f-b2b6-4255-9f24-8c163477ca11",
     "regions": {
      "374d028b-dfb6-4c52-9b5f-519cf0c2cc72": {
       "attrs": {
        "height": 0.8,
        "width": 0.8,
        "x": 0.1,
        "y": 0.1
       },
       "content": {
        "cell": "6f538053-ca69-4e6a-a3ee-b8ba52829297",
        "part": "whole"
       },
       "id": "374d028b-dfb6-4c52-9b5f-519cf0c2cc72"
      }
     }
    },
    "343224fd-9512-4be1-ad7f-40f2212d02c4": {
     "id": "343224fd-9512-4be1-ad7f-40f2212d02c4",
     "prev": null,
     "regions": {
      "9de10fba-88e6-4618-96f9-5d24a4e79151": {
       "attrs": {
        "height": 0.8,
        "width": 0.8,
        "x": 0.1,
        "y": 0.1
       },
       "content": {
        "cell": "21a0e53f-bd3c-42ab-b491-824f8ec4e543",
        "part": "whole"
       },
       "id": "9de10fba-88e6-4618-96f9-5d24a4e79151"
      }
     }
    },
    "35134eaf-d7a1-4a0c-ae89-81ec5dfefb3e": {
     "id": "35134eaf-d7a1-4a0c-ae89-81ec5dfefb3e",
     "prev": "592463fc-b3c7-4527-8c43-9e8793d9ca7b",
     "regions": {
      "5118fabb-55a3-4705-b69b-08a3fbf0f8c8": {
       "attrs": {
        "height": 0.8,
        "width": 0.8,
        "x": 0.1,
        "y": 0.1
       },
       "content": {
        "cell": "b613a758-a43f-480b-93b8-ca863d057160",
        "part": "whole"
       },
       "id": "5118fabb-55a3-4705-b69b-08a3fbf0f8c8"
      }
     }
    },
    "37bfaf9f-1557-4962-bbf7-af291287a066": {
     "id": "37bfaf9f-1557-4962-bbf7-af291287a066",
     "prev": "15e3cf99-c082-4255-8639-f2b23aad0112",
     "regions": {
      "d613ae8d-b7f5-400b-ae27-1d32d79cf350": {
       "attrs": {
        "height": 0.8,
        "width": 0.8,
        "x": 0.1,
        "y": 0.1
       },
       "content": {
        "cell": "c1d4f98f-3e54-48d0-b19a-9d994c6243b3",
        "part": "whole"
       },
       "id": "d613ae8d-b7f5-400b-ae27-1d32d79cf350"
      }
     }
    },
    "3b646190-1cf9-423c-b2f0-312a5cba4941": {
     "id": "3b646190-1cf9-423c-b2f0-312a5cba4941",
     "prev": "dd27adb4-a29d-4e1f-aafc-c1f635e02151",
     "regions": {
      "3f107d35-55b2-46eb-8806-4189e2393037": {
       "attrs": {
        "height": 0.8,
        "width": 0.8,
        "x": 0.1,
        "y": 0.1
       },
       "content": {
        "cell": "9c41bed7-5873-45a7-91e1-c4272247c423",
        "part": "whole"
       },
       "id": "3f107d35-55b2-46eb-8806-4189e2393037"
      }
     }
    },
    "3b71d4ca-a583-4bca-81c0-4c3afc150356": {
     "id": "3b71d4ca-a583-4bca-81c0-4c3afc150356",
     "prev": "f3e79a90-cd3c-4cda-87c9-f9d408b55cd6",
     "regions": {
      "29a92f4b-c206-498d-820c-a37231689919": {
       "attrs": {
        "height": 0.8,
        "width": 0.8,
        "x": 0.1,
        "y": 0.1
       },
       "content": {
        "cell": "bb8d91de-afa5-4b93-add3-56f1e83e4264",
        "part": "whole"
       },
       "id": "29a92f4b-c206-498d-820c-a37231689919"
      }
     }
    },
    "3e70dd32-84b2-44d1-94c7-999f0be038ae": {
     "id": "3e70dd32-84b2-44d1-94c7-999f0be038ae",
     "prev": "666c95e6-855e-43ca-a5b2-00e86c05a54b",
     "regions": {
      "535f4272-5910-4dba-a776-c3d3d06dd8c9": {
       "attrs": {
        "height": 0.8,
        "width": 0.8,
        "x": 0.1,
        "y": 0.1
       },
       "content": {
        "cell": "9687a711-dd46-4d0e-b858-37e5779edda1",
        "part": "whole"
       },
       "id": "535f4272-5910-4dba-a776-c3d3d06dd8c9"
      }
     }
    },
    "3f890313-ec72-4be4-a7ba-47465e6dfc6a": {
     "id": "3f890313-ec72-4be4-a7ba-47465e6dfc6a",
     "prev": "2a735283-3a65-4f89-9403-23fb32a156ae",
     "regions": {
      "18167d80-e633-4f47-a6a6-c1631f44fcbe": {
       "attrs": {
        "height": 0.8,
        "width": 0.8,
        "x": 0.1,
        "y": 0.1
       },
       "content": {
        "cell": "71eaa529-0592-46c2-8bbb-86bbf1def383",
        "part": "whole"
       },
       "id": "18167d80-e633-4f47-a6a6-c1631f44fcbe"
      }
     }
    },
    "48abe253-7d2b-4fea-95ff-d010f64ed61d": {
     "id": "48abe253-7d2b-4fea-95ff-d010f64ed61d",
     "prev": "7611d1f3-d09c-43e9-bfc2-69bfb59fd55a",
     "regions": {
      "34a664dd-f787-45e3-afbd-01164346f346": {
       "attrs": {
        "height": 0.8,
        "width": 0.8,
        "x": 0.1,
        "y": 0.1
       },
       "content": {
        "cell": "3b704683-939e-4ab5-9ef9-a1acd3f4df39",
        "part": "whole"
       },
       "id": "34a664dd-f787-45e3-afbd-01164346f346"
      }
     }
    },
    "49e571f7-d91a-481e-a1e4-615249b5aed9": {
     "id": "49e571f7-d91a-481e-a1e4-615249b5aed9",
     "prev": "275bc664-2904-4005-8ce0-1e27180e8b8e",
     "regions": {
      "f55b7e95-30c9-4bfa-85d3-21a2a814ef73": {
       "attrs": {
        "height": 0.8,
        "width": 0.8,
        "x": 0.1,
        "y": 0.1
       },
       "content": {
        "cell": "92b06321-8046-411f-a61e-e7c01cef8ab2",
        "part": "whole"
       },
       "id": "f55b7e95-30c9-4bfa-85d3-21a2a814ef73"
      }
     }
    },
    "5296102f-d950-4ee8-b87a-19657614d0af": {
     "id": "5296102f-d950-4ee8-b87a-19657614d0af",
     "prev": "0e563e37-42be-484b-b76f-87a52066828f",
     "regions": {
      "13ef8783-5e28-4e44-8240-93d79b4b0c0c": {
       "attrs": {
        "height": 0.8,
        "width": 0.8,
        "x": 0.1,
        "y": 0.1
       },
       "content": {
        "cell": "254e489b-8115-474b-9881-9467351b0330",
        "part": "whole"
       },
       "id": "13ef8783-5e28-4e44-8240-93d79b4b0c0c"
      }
     }
    },
    "544f1db8-4dec-4aae-a539-6b06e249afaa": {
     "id": "544f1db8-4dec-4aae-a539-6b06e249afaa",
     "prev": "6991a433-b25c-47df-8437-27c872e68e0f",
     "regions": {
      "daff992c-4def-487b-b87e-484ca1270c08": {
       "attrs": {
        "height": 0.8,
        "width": 0.8,
        "x": 0.1,
        "y": 0.1
       },
       "content": {
        "cell": "54425681-d9b3-45f9-a04e-7fa4e65d41d8",
        "part": "whole"
       },
       "id": "daff992c-4def-487b-b87e-484ca1270c08"
      }
     }
    },
    "58c511e9-6e41-46e7-b760-b845bc4984be": {
     "id": "58c511e9-6e41-46e7-b760-b845bc4984be",
     "prev": "c8a9cccf-98fe-481e-a696-ae2621840695",
     "regions": {
      "a350896f-eb2f-43e5-8db2-d30b2b275346": {
       "attrs": {
        "height": 0.8,
        "width": 0.8,
        "x": 0.1,
        "y": 0.1
       },
       "content": {
        "cell": "41010f9d-d167-492c-9e78-3347b29d3e08",
        "part": "whole"
       },
       "id": "a350896f-eb2f-43e5-8db2-d30b2b275346"
      }
     }
    },
    "592463fc-b3c7-4527-8c43-9e8793d9ca7b": {
     "id": "592463fc-b3c7-4527-8c43-9e8793d9ca7b",
     "prev": "c21c2ad6-3c09-4d7a-b7cb-8c83df286761",
     "regions": {
      "5402dccb-6a4c-4f95-b2f4-95cd9371b3ac": {
       "attrs": {
        "height": 0.8,
        "width": 0.8,
        "x": 0.1,
        "y": 0.1
       },
       "content": {
        "cell": "86e68892-95dc-4d15-a043-a6a3b7b0e96a",
        "part": "whole"
       },
       "id": "5402dccb-6a4c-4f95-b2f4-95cd9371b3ac"
      }
     }
    },
    "5e980256-8383-4af3-b8ad-418cc6b34003": {
     "id": "5e980256-8383-4af3-b8ad-418cc6b34003",
     "prev": "23f43bae-fcc8-4f07-9b5f-c202b996c16e",
     "regions": {
      "787df995-6b78-48d8-b865-80bdefd9636b": {
       "attrs": {
        "height": 0.8,
        "width": 0.8,
        "x": 0.1,
        "y": 0.1
       },
       "content": {
        "cell": "4379f2f1-154c-4b89-bbd9-ed3a41d83eae",
        "part": "whole"
       },
       "id": "787df995-6b78-48d8-b865-80bdefd9636b"
      }
     }
    },
    "666c95e6-855e-43ca-a5b2-00e86c05a54b": {
     "id": "666c95e6-855e-43ca-a5b2-00e86c05a54b",
     "prev": "cc269136-4886-4ef5-aaf5-8eca7919fa2b",
     "regions": {
      "c80bd991-5122-4f6e-8f20-c04bf9afd8d8": {
       "attrs": {
        "height": 0.8,
        "width": 0.8,
        "x": 0.1,
        "y": 0.1
       },
       "content": {
        "cell": "9f10429f-198b-4f7f-8ceb-352bd6380554",
        "part": "whole"
       },
       "id": "c80bd991-5122-4f6e-8f20-c04bf9afd8d8"
      }
     }
    },
    "6991a433-b25c-47df-8437-27c872e68e0f": {
     "id": "6991a433-b25c-47df-8437-27c872e68e0f",
     "prev": "df8727f9-2022-4b09-8dd1-1728832618db",
     "regions": {
      "4e836ead-c71b-4f6b-9c82-e4dffe10925b": {
       "attrs": {
        "height": 0.8,
        "width": 0.8,
        "x": 0.1,
        "y": 0.1
       },
       "content": {
        "cell": "7db18142-8874-4e1d-9316-3744d56fc4ad",
        "part": "whole"
       },
       "id": "4e836ead-c71b-4f6b-9c82-e4dffe10925b"
      }
     }
    },
    "722ab964-466c-46ca-b719-102e82454461": {
     "id": "722ab964-466c-46ca-b719-102e82454461",
     "prev": "ddc7faf2-47be-4067-bf5f-38f93c1e1995",
     "regions": {
      "5c4f507d-9172-41f9-981d-61225864bcdf": {
       "attrs": {
        "height": 0.8,
        "width": 0.8,
        "x": 0.1,
        "y": 0.1
       },
       "content": {
        "cell": "08b12b1f-dbd9-4a7e-8395-dffbcc6d2d1f",
        "part": "whole"
       },
       "id": "5c4f507d-9172-41f9-981d-61225864bcdf"
      }
     }
    },
    "72b0f9ab-2d96-4a56-b96e-310872c2bfd6": {
     "id": "72b0f9ab-2d96-4a56-b96e-310872c2bfd6",
     "prev": "a5f81f47-d290-4dc0-a194-5fa04f023e39",
     "regions": {
      "ea616149-4bd0-4011-9391-bb767653e3c6": {
       "attrs": {
        "height": 0.8,
        "width": 0.8,
        "x": 0.1,
        "y": 0.1
       },
       "content": {
        "cell": "b8abe005-2980-45c9-ab26-e78f5b100b39",
        "part": "whole"
       },
       "id": "ea616149-4bd0-4011-9391-bb767653e3c6"
      }
     }
    },
    "74948a12-55b3-4919-b9dc-c6f489f47a8b": {
     "id": "74948a12-55b3-4919-b9dc-c6f489f47a8b",
     "prev": "58c511e9-6e41-46e7-b760-b845bc4984be",
     "regions": {
      "f19e29d2-2a5d-4365-bd95-c39ab2c91378": {
       "attrs": {
        "height": 0.8,
        "width": 0.8,
        "x": 0.1,
        "y": 0.1
       },
       "content": {
        "cell": "43ac7850-9a46-4c92-9c1c-cd49c0d43b2f",
        "part": "whole"
       },
       "id": "f19e29d2-2a5d-4365-bd95-c39ab2c91378"
      }
     }
    },
    "7611d1f3-d09c-43e9-bfc2-69bfb59fd55a": {
     "id": "7611d1f3-d09c-43e9-bfc2-69bfb59fd55a",
     "prev": "bd85aca1-0f6a-439f-b399-624e473fb8c2",
     "regions": {
      "459d4485-57d2-4a6c-b5de-e0897b1286d3": {
       "attrs": {
        "height": 0.8,
        "width": 0.8,
        "x": 0.1,
        "y": 0.1
       },
       "content": {
        "cell": "36f848ac-a19a-4f2b-8259-f7303744d9f7",
        "part": "whole"
       },
       "id": "459d4485-57d2-4a6c-b5de-e0897b1286d3"
      }
     }
    },
    "78be197a-ed12-4372-8f0d-df1f22b4043b": {
     "id": "78be197a-ed12-4372-8f0d-df1f22b4043b",
     "prev": "168f0420-d97d-40e6-8417-345b83cbe440",
     "regions": {
      "65bcbaa1-bed1-4d02-9d24-97d5947bc45b": {
       "attrs": {
        "height": 0.8,
        "width": 0.8,
        "x": 0.1,
        "y": 0.1
       },
       "content": {
        "cell": "4bbaa933-f87e-45fc-8f72-c7607084d765",
        "part": "whole"
       },
       "id": "65bcbaa1-bed1-4d02-9d24-97d5947bc45b"
      }
     }
    },
    "794389cd-25ae-4ad4-93a4-a0384c72e4ba": {
     "id": "794389cd-25ae-4ad4-93a4-a0384c72e4ba",
     "prev": "0e6668b5-5ec2-4f2f-9631-0542687e5328",
     "regions": {
      "18e32fee-880f-4694-b996-4297e6bde88b": {
       "attrs": {
        "height": 0.8,
        "width": 0.8,
        "x": 0.1,
        "y": 0.1
       },
       "content": {
        "cell": "fac16d8f-925b-4ba3-aa5c-7c6104fd80ca",
        "part": "whole"
       },
       "id": "18e32fee-880f-4694-b996-4297e6bde88b"
      }
     }
    },
    "7c08ecdd-940a-47ad-bff5-310a79b53912": {
     "id": "7c08ecdd-940a-47ad-bff5-310a79b53912",
     "prev": "2430c85e-d973-4fc8-8914-69959629585d",
     "regions": {
      "5a2b1871-543c-40f9-bbc6-385f8e8fc02e": {
       "attrs": {
        "height": 0.8,
        "width": 0.8,
        "x": 0.1,
        "y": 0.1
       },
       "content": {
        "cell": "4270f31c-e5ee-4b00-8686-6a08c52b74cc",
        "part": "whole"
       },
       "id": "5a2b1871-543c-40f9-bbc6-385f8e8fc02e"
      }
     }
    },
    "7e6fb287-b5b5-4e06-8fbe-02a5399bc25f": {
     "id": "7e6fb287-b5b5-4e06-8fbe-02a5399bc25f",
     "prev": "1e27d4c8-29c1-44d1-b559-ad073b53b861",
     "regions": {
      "ba3aec33-67d7-468c-b1b0-9f70ef8dcd7d": {
       "attrs": {
        "height": 0.8,
        "width": 0.8,
        "x": 0.1,
        "y": 0.1
       },
       "content": {
        "cell": "63cbfeab-bbbf-459f-889f-2db5a9596237",
        "part": "whole"
       },
       "id": "ba3aec33-67d7-468c-b1b0-9f70ef8dcd7d"
      }
     }
    },
    "80b8558b-bff1-4a1d-b351-21dbe0af7515": {
     "id": "80b8558b-bff1-4a1d-b351-21dbe0af7515",
     "prev": "e7eb3652-2636-40ff-af70-5c7a0be0077c",
     "regions": {
      "62f2beed-e8df-4fee-8384-64d17452e1d3": {
       "attrs": {
        "height": 0.8,
        "width": 0.8,
        "x": 0.1,
        "y": 0.1
       },
       "content": {
        "cell": "cc5989ca-a998-4e63-925e-855187ca6298",
        "part": "whole"
       },
       "id": "62f2beed-e8df-4fee-8384-64d17452e1d3"
      }
     }
    },
    "81605e3d-0fa3-45cf-8b5f-002ae36dcf87": {
     "id": "81605e3d-0fa3-45cf-8b5f-002ae36dcf87",
     "prev": "d11dfe95-b86c-4746-aaf1-437c642fc572",
     "regions": {
      "cdb52c58-4102-40c2-a48e-7c8b2ff458a2": {
       "attrs": {
        "height": 0.8,
        "width": 0.8,
        "x": 0.1,
        "y": 0.1
       },
       "content": {
        "cell": "6d3e5884-d3ac-4889-83ae-1fee42ccaa9a",
        "part": "whole"
       },
       "id": "cdb52c58-4102-40c2-a48e-7c8b2ff458a2"
      }
     }
    },
    "87f5c8c2-0cdf-4fad-89bd-39db2b394d05": {
     "id": "87f5c8c2-0cdf-4fad-89bd-39db2b394d05",
     "prev": "c9e850cd-fcfb-4b8b-9ab3-9c2a316c37e0",
     "regions": {
      "ccfcc9bf-7fef-4d53-aba6-d06b3ffbdd17": {
       "attrs": {
        "height": 0.8,
        "width": 0.8,
        "x": 0.1,
        "y": 0.1
       },
       "content": {
        "cell": "988ed5d1-1d5d-4d6e-b8bb-a128b29e49bc",
        "part": "whole"
       },
       "id": "ccfcc9bf-7fef-4d53-aba6-d06b3ffbdd17"
      }
     }
    },
    "8a232c7f-f26d-4241-8411-76efaab3764b": {
     "id": "8a232c7f-f26d-4241-8411-76efaab3764b",
     "prev": "87f5c8c2-0cdf-4fad-89bd-39db2b394d05",
     "regions": {
      "add109ba-edd0-47e6-a9e9-a8a42877b1b9": {
       "attrs": {
        "height": 0.8,
        "width": 0.8,
        "x": 0.1,
        "y": 0.1
       },
       "content": {
        "cell": "ac7f2943-352e-4082-924e-d3e4f74ba907",
        "part": "whole"
       },
       "id": "add109ba-edd0-47e6-a9e9-a8a42877b1b9"
      }
     }
    },
    "90451948-36ba-48db-b986-121a17d34f15": {
     "id": "90451948-36ba-48db-b986-121a17d34f15",
     "prev": "a8b74895-1316-4d29-addd-443a81243d86",
     "regions": {
      "f74eee1f-c1f7-4a7c-b396-4e5e43cab7b7": {
       "attrs": {
        "height": 0.8,
        "width": 0.8,
        "x": 0.1,
        "y": 0.1
       },
       "content": {
        "cell": "5c2b95ac-1833-4f1f-a751-ca863863ef2f",
        "part": "whole"
       },
       "id": "f74eee1f-c1f7-4a7c-b396-4e5e43cab7b7"
      }
     }
    },
    "979a15f7-5cee-429d-aff4-4141f4418257": {
     "id": "979a15f7-5cee-429d-aff4-4141f4418257",
     "prev": "37bfaf9f-1557-4962-bbf7-af291287a066",
     "regions": {
      "0048e4e8-8d4e-456c-93df-6fd69c84fb27": {
       "attrs": {
        "height": 0.8,
        "width": 0.8,
        "x": 0.1,
        "y": 0.1
       },
       "content": {
        "cell": "43e65857-d4a7-4707-baa0-1b872ea27330",
        "part": "whole"
       },
       "id": "0048e4e8-8d4e-456c-93df-6fd69c84fb27"
      }
     }
    },
    "97f3c777-be6f-46cb-8831-dbf24c1e69df": {
     "id": "97f3c777-be6f-46cb-8831-dbf24c1e69df",
     "prev": "a16ce5ac-2679-490b-ae81-e35c57b914c1",
     "regions": {
      "8b8cf765-2359-479d-a9dc-1b618500d013": {
       "attrs": {
        "height": 0.8,
        "width": 0.8,
        "x": 0.1,
        "y": 0.1
       },
       "content": {
        "cell": "4828daf1-1211-4db7-beef-1427f3f8f7e6",
        "part": "whole"
       },
       "id": "8b8cf765-2359-479d-a9dc-1b618500d013"
      }
     }
    },
    "99b9f1aa-5a3f-4892-83a9-47f16ba2bb95": {
     "id": "99b9f1aa-5a3f-4892-83a9-47f16ba2bb95",
     "prev": "aed326be-e37b-4b8d-bd0c-bc5f70aaf08d",
     "regions": {
      "462e1d9d-76ba-409e-b538-2dfba8625113": {
       "attrs": {
        "height": 0.8,
        "width": 0.8,
        "x": 0.1,
        "y": 0.1
       },
       "content": {
        "cell": "234e23f3-d164-41e5-861e-53fd1beae19f",
        "part": "whole"
       },
       "id": "462e1d9d-76ba-409e-b538-2dfba8625113"
      }
     }
    },
    "99ff79df-70eb-4a76-a256-d07db7f70791": {
     "id": "99ff79df-70eb-4a76-a256-d07db7f70791",
     "prev": "d9a8120c-7865-44f7-a354-d0f8f6870aa6",
     "regions": {
      "9de0d472-8a48-4d06-8294-614108eb83fd": {
       "attrs": {
        "height": 0.8,
        "width": 0.8,
        "x": 0.1,
        "y": 0.1
       },
       "content": {
        "cell": "4f75ae61-7ebf-4edb-9128-a8d427e08737",
        "part": "whole"
       },
       "id": "9de0d472-8a48-4d06-8294-614108eb83fd"
      }
     }
    },
    "9d4a1060-c1a1-4932-8edd-cace3863bd88": {
     "id": "9d4a1060-c1a1-4932-8edd-cace3863bd88",
     "prev": "48abe253-7d2b-4fea-95ff-d010f64ed61d",
     "regions": {
      "3ea9e23e-a8d7-49e8-99ce-7a7f10220834": {
       "attrs": {
        "height": 0.8,
        "width": 0.8,
        "x": 0.1,
        "y": 0.1
       },
       "content": {
        "cell": "73c45a76-74ab-4476-921b-4f31f5b8d91a",
        "part": "whole"
       },
       "id": "3ea9e23e-a8d7-49e8-99ce-7a7f10220834"
      }
     }
    },
    "a16ce5ac-2679-490b-ae81-e35c57b914c1": {
     "id": "a16ce5ac-2679-490b-ae81-e35c57b914c1",
     "prev": "271ea722-b025-49c1-9641-322569ba36b2",
     "regions": {
      "4b8e47f2-cfde-403e-b1f7-d7623082f041": {
       "attrs": {
        "height": 0.8,
        "width": 0.8,
        "x": 0.1,
        "y": 0.1
       },
       "content": {
        "cell": "3b1072a5-a9e4-4d10-a9bd-924990d2c8fd",
        "part": "whole"
       },
       "id": "4b8e47f2-cfde-403e-b1f7-d7623082f041"
      }
     }
    },
    "a5f81f47-d290-4dc0-a194-5fa04f023e39": {
     "id": "a5f81f47-d290-4dc0-a194-5fa04f023e39",
     "prev": "8a232c7f-f26d-4241-8411-76efaab3764b",
     "regions": {
      "622869e6-c8cf-43df-8839-262952cf1fa9": {
       "attrs": {
        "height": 0.8,
        "width": 0.8,
        "x": 0.1,
        "y": 0.1
       },
       "content": {
        "cell": "a3256bbf-f47d-4836-adc0-c1f6da7c6675",
        "part": "whole"
       },
       "id": "622869e6-c8cf-43df-8839-262952cf1fa9"
      }
     }
    },
    "a8b74895-1316-4d29-addd-443a81243d86": {
     "id": "a8b74895-1316-4d29-addd-443a81243d86",
     "prev": "49e571f7-d91a-481e-a1e4-615249b5aed9",
     "regions": {
      "8d495514-4aa3-48a6-b111-1b93075bb03e": {
       "attrs": {
        "height": 0.8,
        "width": 0.8,
        "x": 0.1,
        "y": 0.1
       },
       "content": {
        "cell": "bfbe9cbb-27b8-465f-812f-5c46859a0ed5",
        "part": "whole"
       },
       "id": "8d495514-4aa3-48a6-b111-1b93075bb03e"
      }
     }
    },
    "aa19a3f7-0a77-41e4-846c-abd70081ed6d": {
     "id": "aa19a3f7-0a77-41e4-846c-abd70081ed6d",
     "prev": "bdc28a86-010e-442f-b716-51226ff01715",
     "regions": {
      "9e8f266b-0392-4064-8157-ca59e2e3e887": {
       "attrs": {
        "height": 0.8,
        "width": 0.8,
        "x": 0.1,
        "y": 0.1
       },
       "content": {
        "cell": "35641060-cc15-47d4-b035-709bc1fd0f65",
        "part": "whole"
       },
       "id": "9e8f266b-0392-4064-8157-ca59e2e3e887"
      }
     }
    },
    "aed326be-e37b-4b8d-bd0c-bc5f70aaf08d": {
     "id": "aed326be-e37b-4b8d-bd0c-bc5f70aaf08d",
     "prev": "2f453b0b-08c5-44af-9072-c1159f406955",
     "regions": {
      "4f150687-1c8b-4dce-87f4-fafd8f6cf56f": {
       "attrs": {
        "height": 0.8,
        "width": 0.8,
        "x": 0.1,
        "y": 0.1
       },
       "content": {
        "cell": "ff579a39-4f60-4a51-9b99-053189344c2b",
        "part": "whole"
       },
       "id": "4f150687-1c8b-4dce-87f4-fafd8f6cf56f"
      }
     }
    },
    "b2a19b43-077a-4095-ab65-09fa24578fec": {
     "id": "b2a19b43-077a-4095-ab65-09fa24578fec",
     "prev": "9d4a1060-c1a1-4932-8edd-cace3863bd88",
     "regions": {
      "cd6adc21-663a-43c2-bc89-b1e676cfa3bb": {
       "attrs": {
        "height": 0.8,
        "width": 0.8,
        "x": 0.1,
        "y": 0.1
       },
       "content": {
        "cell": "c856c4cb-a6e8-47b6-9ce2-dc0100078ffc",
        "part": "whole"
       },
       "id": "cd6adc21-663a-43c2-bc89-b1e676cfa3bb"
      }
     }
    },
    "b65a8823-abfb-4253-87cb-774d58a6e6a9": {
     "id": "b65a8823-abfb-4253-87cb-774d58a6e6a9",
     "prev": "80b8558b-bff1-4a1d-b351-21dbe0af7515",
     "regions": {
      "a7398220-5cff-46af-9236-8138aeadff66": {
       "attrs": {
        "height": 0.8,
        "width": 0.8,
        "x": 0.1,
        "y": 0.1
       },
       "content": {
        "cell": "d8880b6d-4c38-4cc7-a725-12582cbc57d8",
        "part": "whole"
       },
       "id": "a7398220-5cff-46af-9236-8138aeadff66"
      }
     }
    },
    "bd85aca1-0f6a-439f-b399-624e473fb8c2": {
     "id": "bd85aca1-0f6a-439f-b399-624e473fb8c2",
     "prev": "794389cd-25ae-4ad4-93a4-a0384c72e4ba",
     "regions": {
      "b3dcedc9-e6a6-46da-ab68-ebaae6638701": {
       "attrs": {
        "height": 0.8,
        "width": 0.8,
        "x": 0.1,
        "y": 0.1
       },
       "content": {
        "cell": "fb496851-1462-4b31-a1e9-f119e4c05baa",
        "part": "whole"
       },
       "id": "b3dcedc9-e6a6-46da-ab68-ebaae6638701"
      }
     }
    },
    "bd87687f-b2b6-4255-9f24-8c163477ca11": {
     "id": "bd87687f-b2b6-4255-9f24-8c163477ca11",
     "prev": "72b0f9ab-2d96-4a56-b96e-310872c2bfd6",
     "regions": {
      "105240d4-404a-4c23-a725-ef705aa39be2": {
       "attrs": {
        "height": 0.8,
        "width": 0.8,
        "x": 0.1,
        "y": 0.1
       },
       "content": {
        "cell": "dd05846c-d2bf-42b2-8aa6-c4aa901debb6",
        "part": "whole"
       },
       "id": "105240d4-404a-4c23-a725-ef705aa39be2"
      }
     }
    },
    "bdc28a86-010e-442f-b716-51226ff01715": {
     "id": "bdc28a86-010e-442f-b716-51226ff01715",
     "prev": "3b646190-1cf9-423c-b2f0-312a5cba4941",
     "regions": {
      "e2e0a008-0955-43f0-9ec2-18b473aab3f3": {
       "attrs": {
        "height": 0.8,
        "width": 0.8,
        "x": 0.1,
        "y": 0.1
       },
       "content": {
        "cell": "f9c8e363-1cd7-41fc-980d-8cfb5c784366",
        "part": "whole"
       },
       "id": "e2e0a008-0955-43f0-9ec2-18b473aab3f3"
      }
     }
    },
    "c134c1cb-1dba-4c20-99db-1d40cf8cb504": {
     "id": "c134c1cb-1dba-4c20-99db-1d40cf8cb504",
     "prev": "30163cf3-809d-4a34-93fa-4913e5d4c79b",
     "regions": {
      "9f9d3c71-8d0a-437e-8f34-d33ae0b2fbae": {
       "attrs": {
        "height": 0.8,
        "width": 0.8,
        "x": 0.1,
        "y": 0.1
       },
       "content": {
        "cell": "d7df8da9-8d9d-40f5-90eb-e3a5aa04aaf9",
        "part": "whole"
       },
       "id": "9f9d3c71-8d0a-437e-8f34-d33ae0b2fbae"
      }
     }
    },
    "c21c2ad6-3c09-4d7a-b7cb-8c83df286761": {
     "id": "c21c2ad6-3c09-4d7a-b7cb-8c83df286761",
     "prev": "fe301f54-4c68-4571-bd66-93a8401afb2a",
     "regions": {
      "1f390ae1-69f3-4328-b675-e6e38bf2efff": {
       "attrs": {
        "height": 0.8,
        "width": 0.8,
        "x": 0.1,
        "y": 0.1
       },
       "content": {
        "cell": "2ba3b8d7-f341-4b21-9df1-0f9810a58ea4",
        "part": "whole"
       },
       "id": "1f390ae1-69f3-4328-b675-e6e38bf2efff"
      }
     }
    },
    "c6a08e07-ab48-4684-9599-51b02b312b5f": {
     "id": "c6a08e07-ab48-4684-9599-51b02b312b5f",
     "prev": "f2bf25ab-7e67-48ef-b3b7-908e9448407c",
     "regions": {
      "ef3a7cdb-e2bf-452c-a4a8-8bf0440ecefc": {
       "attrs": {
        "height": 0.8,
        "width": 0.8,
        "x": 0.1,
        "y": 0.1
       },
       "content": {
        "cell": "ea6cc211-bf27-4b76-a9f6-b1ff24cdf7cb",
        "part": "whole"
       },
       "id": "ef3a7cdb-e2bf-452c-a4a8-8bf0440ecefc"
      }
     }
    },
    "c8a9cccf-98fe-481e-a696-ae2621840695": {
     "id": "c8a9cccf-98fe-481e-a696-ae2621840695",
     "prev": "aa19a3f7-0a77-41e4-846c-abd70081ed6d",
     "regions": {
      "de060b01-1740-4b2c-accd-d7b3197c321d": {
       "attrs": {
        "height": 0.8,
        "width": 0.8,
        "x": 0.1,
        "y": 0.1
       },
       "content": {
        "cell": "f5ef6799-9934-4061-89fa-9f0fd1db0137",
        "part": "whole"
       },
       "id": "de060b01-1740-4b2c-accd-d7b3197c321d"
      }
     }
    },
    "c9e850cd-fcfb-4b8b-9ab3-9c2a316c37e0": {
     "id": "c9e850cd-fcfb-4b8b-9ab3-9c2a316c37e0",
     "prev": "3e70dd32-84b2-44d1-94c7-999f0be038ae",
     "regions": {
      "2d119c7f-5f86-4df8-9bc0-c52891f65b74": {
       "attrs": {
        "height": 0.8,
        "width": 0.8,
        "x": 0.1,
        "y": 0.1
       },
       "content": {
        "cell": "6218f675-2f94-494f-8010-0022b8253529",
        "part": "whole"
       },
       "id": "2d119c7f-5f86-4df8-9bc0-c52891f65b74"
      }
     }
    },
    "cbafbf42-614e-45ad-8fd6-192b1fc09d19": {
     "id": "cbafbf42-614e-45ad-8fd6-192b1fc09d19",
     "prev": "f02e92c6-23c2-4b69-a243-4f27a7f0593f",
     "regions": {
      "3f6b9776-69ee-49ea-8b1d-9545a8e16c8c": {
       "attrs": {
        "height": 0.8,
        "width": 0.8,
        "x": 0.1,
        "y": 0.1
       },
       "content": {
        "cell": "a75fe73e-99a2-4f76-80a7-0cafeca21bb8",
        "part": "whole"
       },
       "id": "3f6b9776-69ee-49ea-8b1d-9545a8e16c8c"
      }
     }
    },
    "cc269136-4886-4ef5-aaf5-8eca7919fa2b": {
     "id": "cc269136-4886-4ef5-aaf5-8eca7919fa2b",
     "prev": "7c08ecdd-940a-47ad-bff5-310a79b53912",
     "regions": {
      "3e8219e7-d2a1-4633-9b50-bf1ecbab5c6f": {
       "attrs": {
        "height": 0.8,
        "width": 0.8,
        "x": 0.1,
        "y": 0.1
       },
       "content": {
        "cell": "7959478a-c0c1-47bd-ab6d-ba32cdf59ebe",
        "part": "whole"
       },
       "id": "3e8219e7-d2a1-4633-9b50-bf1ecbab5c6f"
      }
     }
    },
    "d11dfe95-b86c-4746-aaf1-437c642fc572": {
     "id": "d11dfe95-b86c-4746-aaf1-437c642fc572",
     "prev": "35134eaf-d7a1-4a0c-ae89-81ec5dfefb3e",
     "regions": {
      "4e82414d-7995-49d0-bdb4-c197957eceae": {
       "attrs": {
        "height": 0.8,
        "width": 0.8,
        "x": 0.1,
        "y": 0.1
       },
       "content": {
        "cell": "ce69c9f5-f3ef-4bda-b9b0-4579f292a7dd",
        "part": "whole"
       },
       "id": "4e82414d-7995-49d0-bdb4-c197957eceae"
      }
     }
    },
    "d9a8120c-7865-44f7-a354-d0f8f6870aa6": {
     "id": "d9a8120c-7865-44f7-a354-d0f8f6870aa6",
     "prev": "eaa5de81-bcdf-404c-96ac-5e96b5439708",
     "regions": {
      "e11206e0-90de-4f4a-ab1d-7e1df9907ebc": {
       "attrs": {
        "height": 0.8,
        "width": 0.8,
        "x": 0.1,
        "y": 0.1
       },
       "content": {
        "cell": "a21353d4-cb1d-4610-a213-b24d2b62dd05",
        "part": "whole"
       },
       "id": "e11206e0-90de-4f4a-ab1d-7e1df9907ebc"
      }
     }
    },
    "dbe21175-fc89-4fce-bbcb-a9f70c14868d": {
     "id": "dbe21175-fc89-4fce-bbcb-a9f70c14868d",
     "prev": "e0386f92-7664-4cd5-a70d-db214c94a92f",
     "regions": {
      "cb8a5caf-ffca-4773-9acd-aa12ba733b30": {
       "attrs": {
        "height": 0.8,
        "width": 0.8,
        "x": 0.1,
        "y": 0.1
       },
       "content": {
        "cell": "bbf9ca8a-1460-48f4-9516-798d25ca986e",
        "part": "whole"
       },
       "id": "cb8a5caf-ffca-4773-9acd-aa12ba733b30"
      }
     }
    },
    "dd27adb4-a29d-4e1f-aafc-c1f635e02151": {
     "id": "dd27adb4-a29d-4e1f-aafc-c1f635e02151",
     "prev": "c6a08e07-ab48-4684-9599-51b02b312b5f",
     "regions": {
      "8b495a76-a958-4545-8be9-99df4f574ae5": {
       "attrs": {
        "height": 0.8,
        "width": 0.8,
        "x": 0.1,
        "y": 0.1
       },
       "content": {
        "cell": "e5fc51f2-5212-4564-b6de-c5ea1a17bf38",
        "part": "whole"
       },
       "id": "8b495a76-a958-4545-8be9-99df4f574ae5"
      }
     }
    },
    "ddc7faf2-47be-4067-bf5f-38f93c1e1995": {
     "id": "ddc7faf2-47be-4067-bf5f-38f93c1e1995",
     "prev": "2726c096-0429-4173-9f0c-2590fe5bcece",
     "regions": {
      "97b8bda0-a68b-4e38-a4c0-6634dff97e48": {
       "attrs": {
        "height": 0.8,
        "width": 0.8,
        "x": 0.1,
        "y": 0.1
       },
       "content": {
        "cell": "1d5eab77-16d4-4a85-aee0-19d30f5cc5f2",
        "part": "whole"
       },
       "id": "97b8bda0-a68b-4e38-a4c0-6634dff97e48"
      }
     }
    },
    "df8727f9-2022-4b09-8dd1-1728832618db": {
     "id": "df8727f9-2022-4b09-8dd1-1728832618db",
     "prev": "343224fd-9512-4be1-ad7f-40f2212d02c4",
     "regions": {
      "dd346826-7244-4157-95c1-585a214b9a55": {
       "attrs": {
        "height": 0.8,
        "width": 0.8,
        "x": 0.1,
        "y": 0.1
       },
       "content": {
        "cell": "a736f6e2-b6f5-459d-8ff0-516cc9a86df6",
        "part": "whole"
       },
       "id": "dd346826-7244-4157-95c1-585a214b9a55"
      }
     }
    },
    "e0386f92-7664-4cd5-a70d-db214c94a92f": {
     "id": "e0386f92-7664-4cd5-a70d-db214c94a92f",
     "prev": "7e6fb287-b5b5-4e06-8fbe-02a5399bc25f",
     "regions": {
      "e8490dd2-c5d5-4003-a4f3-f426d089af6f": {
       "attrs": {
        "height": 0.8,
        "width": 0.8,
        "x": 0.1,
        "y": 0.1
       },
       "content": {
        "cell": "d0ee56fe-9bf7-4cac-9671-dde325825a48",
        "part": "whole"
       },
       "id": "e8490dd2-c5d5-4003-a4f3-f426d089af6f"
      }
     }
    },
    "e4eb7406-8409-461e-8b9e-25098408ce95": {
     "id": "e4eb7406-8409-461e-8b9e-25098408ce95",
     "prev": "90451948-36ba-48db-b986-121a17d34f15",
     "regions": {
      "fd833c3f-4dc7-4e9c-af91-a2253461d248": {
       "attrs": {
        "height": 0.8,
        "width": 0.8,
        "x": 0.1,
        "y": 0.1
       },
       "content": {
        "cell": "90b3852c-d429-40c4-b5ea-9279ed728605",
        "part": "whole"
       },
       "id": "fd833c3f-4dc7-4e9c-af91-a2253461d248"
      }
     }
    },
    "e7eb3652-2636-40ff-af70-5c7a0be0077c": {
     "id": "e7eb3652-2636-40ff-af70-5c7a0be0077c",
     "prev": "0717e061-bbd4-47d7-b2da-370b60ab5415",
     "regions": {
      "124868b6-027e-4b6e-a2d3-8ef24dae04ae": {
       "attrs": {
        "height": 0.8,
        "width": 0.8,
        "x": 0.1,
        "y": 0.1
       },
       "content": {
        "cell": "4deedbd4-5a42-42f8-a6ae-7cf7d936240b",
        "part": "whole"
       },
       "id": "124868b6-027e-4b6e-a2d3-8ef24dae04ae"
      }
     }
    },
    "eaa5de81-bcdf-404c-96ac-5e96b5439708": {
     "id": "eaa5de81-bcdf-404c-96ac-5e96b5439708",
     "prev": "b2a19b43-077a-4095-ab65-09fa24578fec",
     "regions": {
      "370cd519-a1c0-4027-988a-b41fe230e8a3": {
       "attrs": {
        "height": 0.8,
        "width": 0.8,
        "x": 0.1,
        "y": 0.1
       },
       "content": {
        "cell": "ed543eba-0aac-4612-a9d0-f2fb5f0487e1",
        "part": "whole"
       },
       "id": "370cd519-a1c0-4027-988a-b41fe230e8a3"
      }
     }
    },
    "eb9e1150-eadd-4b5b-98fd-592b9a506db7": {
     "id": "eb9e1150-eadd-4b5b-98fd-592b9a506db7",
     "prev": "5e980256-8383-4af3-b8ad-418cc6b34003",
     "regions": {
      "451f93b3-4716-425e-a436-8ef965668ca3": {
       "attrs": {
        "height": 0.8,
        "width": 0.8,
        "x": 0.1,
        "y": 0.1
       },
       "content": {
        "cell": "ce632cdf-6d54-4fb9-bb90-3103c7fc81aa",
        "part": "whole"
       },
       "id": "451f93b3-4716-425e-a436-8ef965668ca3"
      }
     }
    },
    "f02e92c6-23c2-4b69-a243-4f27a7f0593f": {
     "id": "f02e92c6-23c2-4b69-a243-4f27a7f0593f",
     "prev": "5296102f-d950-4ee8-b87a-19657614d0af",
     "regions": {
      "5ee2822f-8ead-4dde-b640-7f7633e800f3": {
       "attrs": {
        "height": 0.8,
        "width": 0.8,
        "x": 0.1,
        "y": 0.1
       },
       "content": {
        "cell": "dc0fe4d6-7310-4f6c-bb8c-e14fd3e960ab",
        "part": "whole"
       },
       "id": "5ee2822f-8ead-4dde-b640-7f7633e800f3"
      }
     }
    },
    "f2bf25ab-7e67-48ef-b3b7-908e9448407c": {
     "id": "f2bf25ab-7e67-48ef-b3b7-908e9448407c",
     "prev": "eb9e1150-eadd-4b5b-98fd-592b9a506db7",
     "regions": {
      "6a62a6e1-d073-41b0-8cfe-32a8e70998ad": {
       "attrs": {
        "height": 0.8,
        "width": 0.8,
        "x": 0.1,
        "y": 0.1
       },
       "content": {
        "cell": "64d44f29-9162-4cb4-bd70-f446ef187f73",
        "part": "whole"
       },
       "id": "6a62a6e1-d073-41b0-8cfe-32a8e70998ad"
      }
     }
    },
    "f3e79a90-cd3c-4cda-87c9-f9d408b55cd6": {
     "id": "f3e79a90-cd3c-4cda-87c9-f9d408b55cd6",
     "prev": "99ff79df-70eb-4a76-a256-d07db7f70791",
     "regions": {
      "af4ea3fe-9bdf-4a6f-9950-fa71097cf106": {
       "attrs": {
        "height": 0.8,
        "width": 0.8,
        "x": 0.1,
        "y": 0.1
       },
       "content": {
        "cell": "9594a74b-9b4d-484d-80e4-9493c70011aa",
        "part": "whole"
       },
       "id": "af4ea3fe-9bdf-4a6f-9950-fa71097cf106"
      }
     }
    },
    "fe301f54-4c68-4571-bd66-93a8401afb2a": {
     "id": "fe301f54-4c68-4571-bd66-93a8401afb2a",
     "prev": "74948a12-55b3-4919-b9dc-c6f489f47a8b",
     "regions": {
      "a7bb0750-3ed1-45ea-9b55-1f995aef8ee3": {
       "attrs": {
        "height": 0.8,
        "width": 0.8,
        "x": 0.1,
        "y": 0.1
       },
       "content": {
        "cell": "75631ace-bca7-4064-ab02-20f601b7d39f",
        "part": "whole"
       },
       "id": "a7bb0750-3ed1-45ea-9b55-1f995aef8ee3"
      }
     }
    },
    "ffc95763-7f36-4fed-ad62-18c0aab6757d": {
     "id": "ffc95763-7f36-4fed-ad62-18c0aab6757d",
     "prev": "81605e3d-0fa3-45cf-8b5f-002ae36dcf87",
     "regions": {
      "0ee591bd-4a62-47b4-b661-09a0415beb93": {
       "attrs": {
        "height": 0.8,
        "width": 0.8,
        "x": 0.1,
        "y": 0.1
       },
       "content": {
        "cell": "38876e4b-10ee-406e-a2e1-0f55279ae1c0",
        "part": "whole"
       },
       "id": "0ee591bd-4a62-47b4-b661-09a0415beb93"
      }
     }
    }
   },
   "themes": {}
  },
  "widgets": {
   "state": {
    "846265db534e4322af66f8fece649a19": {
     "views": [
      {
       "cell_index": 96
      }
     ]
    }
   },
   "version": "1.2.0"
  }
 },
 "nbformat": 4,
 "nbformat_minor": 0
}
